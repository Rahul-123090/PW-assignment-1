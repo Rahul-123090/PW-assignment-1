{
  "nbformat": 4,
  "nbformat_minor": 0,
  "metadata": {
    "colab": {
      "provenance": []
    },
    "kernelspec": {
      "name": "python3",
      "display_name": "Python 3"
    },
    "language_info": {
      "name": "python"
    }
  },
  "cells": [
    {
      "cell_type": "markdown",
      "source": [],
      "metadata": {
        "id": "K8DsvVUyVd02"
      }
    },
    {
      "cell_type": "markdown",
      "source": [
        "1. What is Python, and why is it popular\n",
        "\n",
        "\n",
        "Ans - Python is a programming language.it is a popular language because it is widely used and easy to understand language.  \n",
        "\n"
      ],
      "metadata": {
        "id": "9FMd2kmDOww_"
      }
    },
    {
      "cell_type": "code",
      "source": [],
      "metadata": {
        "id": "uZOb6XNaO7No"
      },
      "execution_count": null,
      "outputs": []
    },
    {
      "cell_type": "markdown",
      "source": [
        "2. What is an interpreter in Python.\n",
        "\n",
        "Ans. An interpreter in Python is a program that reads and executes Python code directly, line by line. It translates high-level Python code into machine-level instructions that can be executed by the computer's processor.\n",
        "Key Points:\n",
        "It executes code directly, step by step.\n",
        "If there's a mistake in the code, it stops and shows an error.\n",
        "It lets you quickly test and see results, especially in its interactive mode, where you can type commands and see outputs instantly.  \n"
      ],
      "metadata": {
        "id": "w944G0ouWUFT"
      }
    },
    {
      "cell_type": "markdown",
      "source": [
        "3. What are pre-defined keywords in Python\n",
        "\n",
        "Ans.  Pre-defined keywords in Python are reserved words that have special meanings and purposes in the Python language. These keywords are part of the Python syntax and cannot be used as variable names, function names, or any other identifiers.\n",
        "\n",
        "1. Case-Sensitive: Keywords must be written in lowercase (e.g., True and true are different).   \n",
        "2.  Fixed Meaning: The meaning of these keywords is predefined and cannot be changed by the programmer.\n",
        "3. Integral to Syntax: Keywords are essential for writing Python code and control how the program behaves.\n",
        "\n",
        "some of the python keywords: and, or, not, if etc.\n",
        "\n",
        "\n",
        "\n"
      ],
      "metadata": {
        "id": "Vm29LHm5VdLf"
      }
    },
    {
      "cell_type": "markdown",
      "source": [
        "4. Can keywords be used as variable names\n",
        "\n",
        "Ans. No, keywords cannot be used as variable names in Python. Keywords are reserved words in Python that have special meanings and are used as part of the language's syntax. Attempting to use a keyword as a variable name will result in a SyntaxError.\n",
        "\n",
        "# Incorrect: Using a keyword as a variable name\n",
        "if = 10  # SyntaxError: invalid syntax\n",
        "\n",
        "# Correct: Using a valid variable name\n",
        "value = 10\n",
        "\n",
        "Why Keywords Can't Be Used:\n",
        ":-Python needs to differentiate between the predefined functionality of keywords and user-defined identifiers like variable names.\n",
        ":-Keywords are essential for the language's structure, so allowing them as variable names would cause ambiguity."
      ],
      "metadata": {
        "id": "w55OD4YBZYD5"
      }
    },
    {
      "cell_type": "markdown",
      "source": [
        "5. What is mutability in Python\n",
        "Ans -  Mutability in Python refers to whether an object's value can be changed after it has been created. Based on this property, Python objects are classified into two categories:\n",
        "\n",
        "Mutable Objects: Their values can be changed after creation.\n",
        "Immutable Objects: Their values cannot be changed once created.\n",
        "\n",
        "\n",
        "Mutability in Python refers to whether an object’s value can be changed after it has been created. Based on this property, Python objects are classified into two categories:\n",
        "\n",
        "Mutable Objects: Their values can be changed after creation.\n",
        "Immutable Objects: Their values cannot be changed once created.\n",
        "\n",
        "Mutable Objects\n",
        ":-Mutable objects allow in-place modifications.\n",
        ":-Changing a mutable object does not create a new object; the same memory location is updated.\n",
        "Examples of Mutable Objects:\n",
        "\n",
        "Lists\n",
        "Dictionaries\n",
        "Sets\n",
        "User-defined objects (typically, unless explicitly designed to be immutable)"
      ],
      "metadata": {
        "id": "-kyOOQjzZVa_"
      }
    },
    {
      "cell_type": "code",
      "source": [],
      "metadata": {
        "id": "um-ABPGlawcW"
      },
      "execution_count": null,
      "outputs": []
    },
    {
      "cell_type": "markdown",
      "source": [
        "6. Why are lists mutable, but tuples are immutable?\n",
        "\n",
        "ans. The mutability of lists and the immutability of tuples in Python are intentional design choices that serve different purposes and use cases. Here's why they differ:\n",
        "\n",
        "Why Lists Are Mutable\n",
        "Purpose:\n",
        "Lists are designed to be flexible and dynamic. They are commonly used when you need to store and manipulate a collection of items.\n",
        "\n",
        "Use Cases:\n",
        "\n",
        "Adding, removing, or modifying elements.\n",
        "Iterative operations where the collection needs to change.\n",
        "Implementation:\n",
        "\n",
        "Lists are implemented with a dynamic array in memory.\n",
        "This structure allows in-place modifications like changing an element or resizing the list.\n",
        "\n",
        "Why Tuples Are Immutable\n",
        "Purpose:\n",
        "Tuples are meant to represent fixed collections of items. They are often used for grouping related data that should not change, like database records or function return values.\n",
        "\n",
        "Use Cases:\n",
        "\n",
        "Ensuring data integrity by preventing accidental modifications.\n",
        "Using as keys in dictionaries or elements in sets (since immutability is required for hashability).\n",
        "Implementation:\n",
        "\n",
        "Tuples are stored more compactly in memory because they do not need to support dynamic resizing.\n",
        "Immutability simplifies optimization and makes tuples faster in some operations"
      ],
      "metadata": {
        "id": "s4XzYghha2Ry"
      }
    },
    {
      "cell_type": "markdown",
      "source": [
        "7. What is the difference between “==” and “is” operators in Python\n",
        "\n",
        "Ans. The == and is operators in Python are used for comparison, but they serve different purposes:\n",
        "\n",
        "== (Equality Operator):\n",
        "Purpose: Compares the values of two objects.\n",
        "Checks: Whether the data stored in two objects is the same, regardless of whether they are the same object in memory.\n",
        "Use Case: Use == when you want to compare the contents of two variables.\n",
        "example\n",
        "a = [1, 2, 3]\n",
        "b = [1, 2, 3]\n",
        "\n",
        "print(a == b)  # Output: True (values are the same)\n",
        "\n",
        "\n",
        "The == and is operators in Python are used for comparison, but they serve different purposes:\n",
        "\n",
        "== (Equality Operator):\n",
        "Purpose: Compares the values of two objects.\n",
        "Checks: Whether the data stored in two objects is the same, regardless of whether they are the same object in memory.\n",
        "Use Case: Use == when you want to compare the contents of two variables.\n",
        "Example:\n",
        "\n",
        "python\n",
        "Copy code\n",
        "a = [1, 2, 3]\n",
        "b = [1, 2, 3]\n",
        "\n",
        "is (Identity Operator):\n",
        "Purpose: Checks whether two references point to the same object in memory.\n",
        "Checks: Object identity, not value equality.\n",
        "Use Case: Use is when you want to check if two variables refer to the exact same object.\n",
        "Conclusion:\n",
        "Use == when comparing values.\n",
        "Use is when comparing object identities (memory locations)."
      ],
      "metadata": {
        "id": "RW6_f40Ua2iF"
      }
    },
    {
      "cell_type": "markdown",
      "source": [
        "8. What are logical operators in Python.\n",
        "\n",
        "Ans. Logical operators in Python are used to perform logical operations on Boolean values (True or False). They are typically used in conditional statements or loops to combine multiple conditions.\n",
        "\n",
        "The three main logical operators in Python are:\n",
        "and:\n",
        "Returns True if both conditions are True, otherwise returns False.\n",
        "\n",
        "Example:\n",
        "\n",
        "a = True\n",
        "b = False\n",
        "print(a and b)  # Output: False (since one condition is False)\n",
        "\n",
        "These logical operators are essential for controlling the flow of execution in Python programs, especially in conditions and loops."
      ],
      "metadata": {
        "id": "U8DQLhZca2ua"
      }
    },
    {
      "cell_type": "markdown",
      "source": [
        "9. What is type casting in Python ?\n",
        "\n",
        "Ans.  Type casting in Python refers to the process of converting one data type into another. This is often necessary when you want to perform operations that require a specific data type, or when you want to ensure that different types are compatible.\n",
        "\n",
        "Types of Type Casting:\n",
        "Implicit Type Casting (Automatic Type Conversion):\n",
        "\n",
        "Python automatically converts one data type to another when necessary. This usually happens when converting from a smaller to a larger data type (e.g., integer to float).\n",
        "\n",
        "a = 5       # Integer\n",
        "b = 2.5     # Float\n",
        "c = a + b   # Python automatically converts `a` to a float\n",
        "print(c)    # Output: 7.5\n",
        "\n",
        "Explicit Type Casting (Manual Type Conversion):\n",
        "\n",
        "You manually convert a variable from one data type to another using specific functions like int(), float(), str(), etc.\n",
        "Common Type Casting Functions:\n",
        "\n",
        "int(): Converts a value to an integer (removes the decimal part for floats).\n",
        "float(): Converts a value to a floating-point number.\n",
        "\n"
      ],
      "metadata": {
        "id": "gaTg9vUGa25z"
      }
    },
    {
      "cell_type": "markdown",
      "source": [
        "10. What is the difference between implicit and explicit type casting?\n",
        "\n",
        "Ans. The difference between implicit and explicit type casting in Python lies in how the type conversion is performed and who decides to perform the conversion.\n",
        "\n",
        "1. Implicit Type Casting (Automatic Type Conversion)\n",
        "Definition: Implicit type casting happens automatically by Python when it detects that type conversion is necessary.\n",
        "When: This occurs when you perform operations involving two different data types, and Python automatically converts the smaller type into a larger type (e.g., from integer to float) to avoid data loss.\n",
        "Who does it: Python itself handles the conversion without any explicit instruction from the programmer.\n",
        "Examples:\n",
        "Converting an integer to a float automatically when mixed with floating-point numbers.  \n",
        "\n",
        "a = 5        # Integer\n",
        "b = 2.5      # Float\n",
        "c = a + b    # `a` is automatically converted to float during addition\n",
        "print(c)     # Output: 7.5\n",
        "\n",
        "2. Explicit Type Casting (Manual Type Conversion)\n",
        "Definition: Explicit type casting is when the programmer manually converts one data type to another using built-in functions like int(), float(), str(), etc.\n",
        "When: This occurs when you want to intentionally convert a value to another data type, and Python does not do it automatically.\n",
        "Who does it: The programmer explicitly tells Python how to convert the value.\n",
        "Examples:\n",
        "Converting a float to an integer manually, losing the decimal part.\n",
        "\n",
        "a = 3.14      # Float\n",
        "b = int(a)    # Manually convert float to integer (decimal part is discarded)\n",
        "print(b)      # Output: 3\n"
      ],
      "metadata": {
        "id": "MKT2bGcwa3D3"
      }
    },
    {
      "cell_type": "markdown",
      "source": [
        "11.  What is the purpose of conditional statements in Python?\n",
        "\n",
        "Ans. Conditional statements in Python allow you to control the flow of a program based on certain conditions. They enable the program to execute specific blocks of code only when certain conditions are true, allowing for decision-making and branching behavior. Conditional statements are essential for making your program dynamic and responsive to different inputs and situations.\n",
        "\n",
        "Purpose of Conditional Statements:\n",
        "Control Program Flow: Conditional statements help decide which part of the code to execute based on the evaluation of conditions.\n",
        "Make Decisions: They allow the program to choose between different options based on logic (e.g., \"If this is true, do this; otherwise, do that\").\n",
        "Handle Multiple Scenarios: You can use conditionals to handle different scenarios and behaviors depending on the values of variables or inputs.\n",
        "Improve Program Logic: They enable you to implement logic such as comparing values, checking for specific conditions, and running appropriate code based on those checks.\n",
        "Types of Conditional Statements in Python:\n",
        "if statement:\n",
        "\n",
        "The if statement is used to check if a condition is True. If the condition is True, the block of code under it is executed.\n",
        "Example:\n",
        "\n",
        "python\n",
        "Copy code\n",
        "\n",
        "age = 18\n",
        "if age >= 18:\n",
        "    print(\"You are an adult.\")\n",
        "    \n",
        "Conditional statements are crucial for implementing decision-making and controlling program flow in Python. They let you define rules and behavior that vary depending on specific conditions or inputs. Without them, your program would lack flexibility and could not adapt to different scenarios.\n",
        "\n",
        "\n",
        "\n",
        "\n",
        "\n",
        "\n",
        "\n"
      ],
      "metadata": {
        "id": "hcdlticigjNF"
      }
    },
    {
      "cell_type": "markdown",
      "source": [
        "12. How does the elif statement work.\n",
        "\n",
        "Ans. The elif (short for else if) statement in Python is used to check multiple conditions in a sequence. It allows you to test several conditions in a sequence, executing the corresponding block of code for the first condition that evaluates to True. If none of the if or elif conditions are True, the final else block is executed (if provided).\n",
        "\n",
        "How elif Works:\n",
        "The if statement is evaluated first. If the condition is True, the code inside the if block is executed, and the rest of the elif and else blocks are skipped.\n",
        "If the if condition is False, Python checks the conditions in the elif statements in the order they appear.\n",
        "The first elif condition that evaluates to True will execute its associated block of code, and the remaining conditions are ignored.\n",
        "If none of the if or elif conditions are True, the code inside the else block (if provided) is executed.\n",
        "Syntax of elif:\n",
        "\n",
        "day = \"Monday\"\n",
        "\n",
        "if day == \"Monday\":\n",
        "    print(\"Start of the week.\")\n",
        "elif day == \"Tuesday\":\n",
        "    print(\"Second day of the week.\")\n",
        "elif day == \"Wednesday\":\n",
        "    print(\"Mid-week.\")\n",
        "elif day == \"Friday\":\n",
        "    print(\"Almost weekend.\")\n",
        "else:\n",
        "    print(\"Weekend or another day.\")\n",
        "\n",
        "Summary:\n",
        "elif allows you to check multiple conditions after the initial if statement.\n",
        "It makes decision-making more efficient when you have several distinct conditions to evaluate.\n",
        "\n",
        "\n",
        "\n",
        "\n",
        "\n"
      ],
      "metadata": {
        "id": "_HE_L7mBgi6w"
      }
    },
    {
      "cell_type": "markdown",
      "source": [
        "13. What is the difference between for and while loops ?\n",
        "\n",
        "Ans. The for and while loops in Python are both used to repeat a block of code multiple times, but they differ in how they control the loop and when they terminate.\n",
        "\n",
        "1. for Loop:\n",
        "Purpose: Used to iterate over a sequence (like a list, tuple, string, or range).\n",
        "How It Works: The loop executes a block of code for each item in the sequence.\n",
        "Termination: The loop terminates once it has iterated over all elements in the sequence.\n",
        "Syntax:\n",
        "\n",
        "fruits = [\"apple\", \"banana\", \"cherry\"]\n",
        "for fruit in fruits:\n",
        "    print(fruit)\n",
        "\n",
        "Outcome\n",
        "\n",
        "apple\n",
        "banana\n",
        "cherry\n",
        "\n",
        "\n",
        "The for and while loops in Python are both used to repeat a block of code multiple times, but they differ in how they control the loop and when they terminate.\n",
        "\n",
        "1. for Loop:\n",
        "Purpose: Used to iterate over a sequence (like a list, tuple, string, or range).\n",
        "How It Works: The loop executes a block of code for each item in the sequence.\n",
        "Termination: The loop terminates once it has iterated over all elements in the sequence.\n",
        "Syntax:\n",
        "python\n",
        "Copy code\n",
        "for item in sequence:\n",
        "    # Code to execute for each item in the sequence\n",
        "Example:\n",
        "python\n",
        "Copy code\n",
        "fruits = [\"apple\", \"banana\", \"cherry\"]\n",
        "for fruit in fruits:\n",
        "    print(fruit)\n",
        "Output:\n",
        "\n",
        "Copy code\n",
        "apple\n",
        "banana\n",
        "cherry\n",
        "\n",
        "Use Case: When you know the number of iterations beforehand or you are iterating over a known sequence (like a list or range).\n",
        "2. while Loop:\n",
        "Purpose: Used to repeat a block of code as long as a specified condition is True.\n",
        "How It Works: The loop continues to execute the block of code until the condition becomes False. If the condition is False initially, the code inside the loop may never execute.\n",
        "Termination: The loop will terminate as soon as the condition becomes False.\n",
        "Syntax:\n",
        "\n",
        "Example:\n",
        "count = 1\n",
        "while count <= 3:\n",
        "    print(count)\n",
        "    count += 1\n",
        "\n",
        "output\n",
        "    \n",
        "    1\n",
        "    2\n",
        "    3\n",
        "\n",
        "Use Case: When the number of iterations is unknown beforehand, and you want to repeat the loop until a specific condition is met (like waiting for a user input or a dynamic condition).\n",
        "\n",
        "\n",
        "\n",
        "\n"
      ],
      "metadata": {
        "id": "keStnNDHkgTA"
      }
    },
    {
      "cell_type": "markdown",
      "source": [
        "14. Describe a scenario where a while loop is more suitable than a for loop.\n",
        "\n",
        "Ans. A while loop is more suitable than a for loop in scenarios where you don’t know the exact number of iterations in advance, and the loop needs to continue running until a certain condition is met. This makes it ideal for situations where the loop is based on dynamic or user-defined conditions that can change during the execution of the loop.\n",
        "\n",
        "Scenario: Asking for Valid User Input\n",
        "Let’s say you’re creating a program that asks a user to input their age, and you want to ensure that the input is a valid number (greater than 0). If the user provides invalid input, the program should continue asking until a valid age is entered. This is a situation where a while loop is more suitable than a for loop because you don't know how many times the user will provide invalid input, and you only want to stop when a valid response is received.\n",
        "\n",
        "Code Example:\n",
        "\n",
        "age = -1  # Initialize to an invalid age\n",
        "\n",
        "while age <= 0:\n",
        "    try:\n",
        "        age = int(input(\"Please enter your age: \"))\n",
        "        if age <= 0:\n",
        "            print(\"Age must be a positive number. Please try again.\")\n",
        "    except ValueError:\n",
        "        print(\"Invalid input! Please enter a valid number.\")\n",
        "    \n",
        "print(f\"Thank you! Your age is {age}.\")\n",
        "\n",
        "\n",
        "Explanation:\n",
        "The while loop runs as long as the condition age <= 0 is True, meaning it will keep asking for the user's age until a valid positive number is provided.\n",
        "The loop checks if the entered age is greater than 0. If not, it will continue prompting the user for a valid input.\n",
        "The loop doesn't know how many iterations it will take because the number of attempts depends on when the user provides a valid response.\n",
        "Why a while Loop Is Suitable Here:\n",
        "Uncertain Number of Iterations: You don’t know in advance how many times the user might give an invalid input. A while loop will continue asking for input until a valid value is provided.\n",
        "Dynamic Condition: The condition (age <= 0) changes based on user input, making a while loop the ideal choice because the loop will run until the condition is no longer True.\n",
        "This scenario is an excellent example of when a while loop is more suitable than a for loop, as the number of iterations is not known and is dependent on external input.\n",
        "\n",
        "\n",
        "\n",
        "\n",
        "\n",
        "\n"
      ],
      "metadata": {
        "id": "cUD_gycBkgd8"
      }
    },
    {
      "cell_type": "markdown",
      "source": [
        "# #Practical Questions"
      ],
      "metadata": {
        "id": "V7OlUuO3kglM"
      }
    },
    {
      "cell_type": "markdown",
      "source": [
        "1. Write a Python program to print \"Hello, World!_\n",
        "\n",
        "Ans. in the following code\n"
      ],
      "metadata": {
        "id": "TNDIMIzIkgsG"
      }
    },
    {
      "cell_type": "code",
      "source": [
        "print(\"Hello, World!-\")"
      ],
      "metadata": {
        "colab": {
          "base_uri": "https://localhost:8080/"
        },
        "id": "4N5TZz2BnalW",
        "outputId": "a1f9771d-2a3a-4863-f13f-0fd38f86f896"
      },
      "execution_count": 3,
      "outputs": [
        {
          "output_type": "stream",
          "name": "stdout",
          "text": [
            "Hello, World!-\n"
          ]
        }
      ]
    },
    {
      "cell_type": "markdown",
      "source": [
        "2. Write a Python program that displays your name and age?\n",
        "\n",
        "Ans.  check in the following code.\n"
      ],
      "metadata": {
        "id": "k3K5Yj03kgyY"
      }
    },
    {
      "cell_type": "code",
      "source": [
        "# Displaying name and age\n",
        "name = \"Rahul Joshi\"\n",
        "age = 24\n",
        "\n",
        "print(\"Name:\", name)\n",
        "print(\"Age:\", age)\n"
      ],
      "metadata": {
        "colab": {
          "base_uri": "https://localhost:8080/"
        },
        "id": "MTEUQcvUoQHv",
        "outputId": "5bf9d215-ecf2-487b-f361-ff61edd82466"
      },
      "execution_count": 5,
      "outputs": [
        {
          "output_type": "stream",
          "name": "stdout",
          "text": [
            "Name: Rahul Joshi\n",
            "Age: 24\n"
          ]
        }
      ]
    },
    {
      "cell_type": "markdown",
      "source": [
        "3. Write code to print all the pre-defined keywords in Python using the keyword library.\n"
      ],
      "metadata": {
        "id": "UffAAXZuouv3"
      }
    },
    {
      "cell_type": "code",
      "source": [
        "import keyword\n",
        "\n",
        "# Print all the pre-defined keywords in Python\n",
        "print(\"List of Python keywords:\")\n",
        "print(keyword.kwlist)\n"
      ],
      "metadata": {
        "colab": {
          "base_uri": "https://localhost:8080/"
        },
        "id": "DdQ88_P9o8jd",
        "outputId": "3d4d8838-f4ef-4c0b-80e2-cc8e2bdb7d87"
      },
      "execution_count": 6,
      "outputs": [
        {
          "output_type": "stream",
          "name": "stdout",
          "text": [
            "List of Python keywords:\n",
            "['False', 'None', 'True', 'and', 'as', 'assert', 'async', 'await', 'break', 'class', 'continue', 'def', 'del', 'elif', 'else', 'except', 'finally', 'for', 'from', 'global', 'if', 'import', 'in', 'is', 'lambda', 'nonlocal', 'not', 'or', 'pass', 'raise', 'return', 'try', 'while', 'with', 'yield']\n"
          ]
        }
      ]
    },
    {
      "cell_type": "markdown",
      "source": [
        "4. Write a program that checks if a given word is a Python keyword\n"
      ],
      "metadata": {
        "id": "Yc_-Kbp7pL-T"
      }
    },
    {
      "cell_type": "code",
      "source": [
        "import keyword\n",
        "\n",
        "# Function to check if a word is a Python keyword\n",
        "def is_python_keyword(word):\n",
        "    if keyword.iskeyword(word):\n",
        "        return True\n",
        "    else:\n",
        "        return False\n",
        "\n",
        "# Input from user\n",
        "word = input(\"Enter a word to check if it's a Python keyword: \")\n",
        "\n",
        "# Check and display result\n",
        "if is_python_keyword(word):\n",
        "    print(f\"'{word}' is a Python keyword.\")\n",
        "else:\n",
        "    print(f\"'{word}' is NOT a Python keyword.\")\n"
      ],
      "metadata": {
        "colab": {
          "base_uri": "https://localhost:8080/"
        },
        "id": "CwU6hn8jpZ6V",
        "outputId": "903b65f7-f902-4376-c26b-6519228d4b45"
      },
      "execution_count": 7,
      "outputs": [
        {
          "output_type": "stream",
          "name": "stdout",
          "text": [
            "Enter a word to check if it's a Python keyword: if\n",
            "'if' is a Python keyword.\n"
          ]
        }
      ]
    },
    {
      "cell_type": "markdown",
      "source": [
        "5. Create a list and tuple in Python, and demonstrate how attempting to change an element works differently\n",
        "for each.\n",
        "\n",
        "Here's an example demonstrating how you can create a list and a tuple in Python, and how attempting to change an element works differently for each:"
      ],
      "metadata": {
        "id": "-uhUlNbppyFO"
      }
    },
    {
      "cell_type": "code",
      "source": [
        "# Creating a list\n",
        "my_list = [10, 20, 30, 40]\n",
        "\n",
        "# Attempting to change an element in the list\n",
        "print(\"Original list:\", my_list)\n",
        "my_list[1] = 100  # Changing the second element\n",
        "print(\"Updated list:\", my_list)\n",
        "\n",
        "# Creating a tuple\n",
        "my_tuple = (10, 20, 30, 40)\n",
        "\n",
        "# Attempting to change an element in the tuple\n",
        "print(\"\\nOriginal tuple:\", my_tuple)\n",
        "try:\n",
        "    my_tuple[1] = 100  # Trying to change the second element\n",
        "except TypeError as e:\n",
        "    print(\"Error while trying to modify tuple:\", e)\n"
      ],
      "metadata": {
        "colab": {
          "base_uri": "https://localhost:8080/"
        },
        "id": "ImUjts4Bp6JN",
        "outputId": "5fff709f-827a-45b7-f264-ce1009663cfc"
      },
      "execution_count": 8,
      "outputs": [
        {
          "output_type": "stream",
          "name": "stdout",
          "text": [
            "Original list: [10, 20, 30, 40]\n",
            "Updated list: [10, 100, 30, 40]\n",
            "\n",
            "Original tuple: (10, 20, 30, 40)\n",
            "Error while trying to modify tuple: 'tuple' object does not support item assignment\n"
          ]
        }
      ]
    },
    {
      "cell_type": "markdown",
      "source": [
        "Explanation:\n",
        "List:\n",
        "\n",
        "my_list = [10, 20, 30, 40]: A list is created with four elements.\n",
        "Lists are mutable, which means you can change or modify elements. In this case, my_list[1] = 100 successfully changes the second element from 20 to 100.\n",
        "Tuple:\n",
        "\n",
        "my_tuple = (10, 20, 30, 40): A tuple is created with four elements.\n",
        "Tuples are immutable, which means you cannot modify their elements after creation. Trying to execute my_tuple[1] = 100 will raise a TypeError because tuples cannot be changed once created.\n",
        "\n",
        "Key Points:\n",
        "Lists are mutable, so their elements can be modified after creation.\n",
        "Tuples are immutable, so you cannot change their elements once they are created.\n",
        "\n",
        "\n",
        "\n",
        "\n",
        "\n"
      ],
      "metadata": {
        "id": "KhcuTeaEyuQ5"
      }
    },
    {
      "cell_type": "markdown",
      "source": [
        "6. Write a function to demonstrate the behavior of mutable and immutable arguments."
      ],
      "metadata": {
        "id": "01pjkIqVzCpe"
      }
    },
    {
      "cell_type": "markdown",
      "source": [
        "In Python, mutable objects (like lists, dictionaries, and sets) can be modified inside a function, whereas immutable objects (like integers, strings, and tuples) cannot be modified inside a function. Here's a function that demonstrates the behavior of mutable and immutable arguments:\n",
        "\n",
        "Example:"
      ],
      "metadata": {
        "id": "foyTYfQSzDLF"
      }
    },
    {
      "cell_type": "code",
      "source": [
        "def demonstrate_mutable_immutable(mutable_arg, immutable_arg):\n",
        "    # Modifying mutable argument inside the function\n",
        "    mutable_arg.append(4)  # Adds 4 to the list\n",
        "\n",
        "    # Trying to modify immutable argument inside the function\n",
        "    immutable_arg = 100  # This will reassign the variable, not modify the original\n",
        "\n",
        "    # Printing the results\n",
        "    print(\"Inside function:\")\n",
        "    print(\"Modified mutable argument:\", mutable_arg)  # List should be modified\n",
        "    print(\"Modified immutable argument:\", immutable_arg)  # This will show 100, but it doesn't change the original\n",
        "\n",
        "# Test with mutable and immutable arguments\n",
        "my_list = [1, 2, 3]  # Mutable\n",
        "my_number = 10  # Immutable\n",
        "\n",
        "# Calling the function\n",
        "print(\"Before function call:\")\n",
        "print(\"Original mutable argument:\", my_list)\n",
        "print(\"Original immutable argument:\", my_number)\n",
        "\n",
        "demonstrate_mutable_immutable(my_list, my_number)\n",
        "\n",
        "print(\"\\nAfter function call:\")\n",
        "print(\"Original mutable argument:\", my_list)  # Should be modified\n",
        "print(\"Original immutable argument:\", my_number)  # Should remain unchanged\n"
      ],
      "metadata": {
        "colab": {
          "base_uri": "https://localhost:8080/"
        },
        "id": "u6RuTcBxzKAw",
        "outputId": "908061ec-a633-44dc-e13a-64ed2d36aa2b"
      },
      "execution_count": 9,
      "outputs": [
        {
          "output_type": "stream",
          "name": "stdout",
          "text": [
            "Before function call:\n",
            "Original mutable argument: [1, 2, 3]\n",
            "Original immutable argument: 10\n",
            "Inside function:\n",
            "Modified mutable argument: [1, 2, 3, 4]\n",
            "Modified immutable argument: 100\n",
            "\n",
            "After function call:\n",
            "Original mutable argument: [1, 2, 3, 4]\n",
            "Original immutable argument: 10\n"
          ]
        }
      ]
    },
    {
      "cell_type": "markdown",
      "source": [
        "Explanation:\n",
        "\n",
        "Mutable Argument (my_list):\n",
        "\n",
        "We pass my_list (which is mutable) into the function. Inside the function, the list is modified by appending an element to it (mutable_arg.append(4)).\n",
        "Since lists are mutable, the change is reflected outside the function as well.\n",
        "\n",
        "Immutable Argument (my_number):\n",
        "\n",
        "We pass my_number (which is immutable) into the function. Inside the function, we attempt to reassign the value of immutable_arg = 100. However, this creates a new local reference to a different integer value. The original value of my_number is not modified.\n",
        "\n",
        "Since integers are immutable, reassigning the value doesn't affect the original variable outside the function.\n",
        "\n",
        "Key Points:\n",
        "Mutable objects (like lists) can be modified inside a function, and the changes will persist outside the function.\n",
        "Immutable objects (like integers) cannot be modified inside a function. Reassigning them creates a new object, and the original object remains unchanged outside the function.\n",
        "\n",
        "\n",
        "\n",
        "\n",
        "\n",
        "\n",
        "\n"
      ],
      "metadata": {
        "id": "Wk0VqXaWzeV3"
      }
    },
    {
      "cell_type": "markdown",
      "source": [
        "7. Write a function to demonstrate the behavior of mutable and immutable arguments."
      ],
      "metadata": {
        "id": "TKNvycwgzqt7"
      }
    },
    {
      "cell_type": "markdown",
      "source": [
        "Ans. Here's a Python function that demonstrates the behavior of mutable and immutable arguments:"
      ],
      "metadata": {
        "id": "ENLoiYL2zqB3"
      }
    },
    {
      "cell_type": "code",
      "source": [
        "def demonstrate_mutable_immutable(mutable_arg, immutable_arg):\n",
        "    # Modifying mutable argument inside the function\n",
        "    print(\"Inside the function:\")\n",
        "    print(f\"Original mutable_arg before modification: {mutable_arg}\")\n",
        "    mutable_arg.append(10)  # Modify the mutable argument (list)\n",
        "    print(f\"mutable_arg after modification: {mutable_arg}\")\n",
        "\n",
        "    # Trying to modify immutable argument inside the function\n",
        "    print(f\"Original immutable_arg before reassignment: {immutable_arg}\")\n",
        "    immutable_arg = 20  # Reassigning the immutable argument (int)\n",
        "    print(f\"immutable_arg after reassignment: {immutable_arg}\")\n",
        "\n",
        "    print(\"\\nEnd of function.\\n\")\n",
        "\n",
        "# Test with mutable and immutable arguments\n",
        "my_list = [1, 2, 3]  # Mutable (list)\n",
        "my_number = 5  # Immutable (integer)\n",
        "\n",
        "# Call the function\n",
        "print(\"Before function call:\")\n",
        "print(f\"Original mutable argument (list): {my_list}\")\n",
        "print(f\"Original immutable argument (number): {my_number}\")\n",
        "\n",
        "demonstrate_mutable_immutable(my_list, my_number)\n",
        "\n",
        "print(\"After function call:\")\n",
        "print(f\"Original mutable argument (list) after function call: {my_list}\")\n",
        "print(f\"Original immutable argument (number) after function call: {my_number}\")\n"
      ],
      "metadata": {
        "colab": {
          "base_uri": "https://localhost:8080/"
        },
        "id": "pR3S5jEG0AKG",
        "outputId": "ba9a2a14-e6c0-492c-abb5-8e8acc8e7b70"
      },
      "execution_count": 10,
      "outputs": [
        {
          "output_type": "stream",
          "name": "stdout",
          "text": [
            "Before function call:\n",
            "Original mutable argument (list): [1, 2, 3]\n",
            "Original immutable argument (number): 5\n",
            "Inside the function:\n",
            "Original mutable_arg before modification: [1, 2, 3]\n",
            "mutable_arg after modification: [1, 2, 3, 10]\n",
            "Original immutable_arg before reassignment: 5\n",
            "immutable_arg after reassignment: 20\n",
            "\n",
            "End of function.\n",
            "\n",
            "After function call:\n",
            "Original mutable argument (list) after function call: [1, 2, 3, 10]\n",
            "Original immutable argument (number) after function call: 5\n"
          ]
        }
      ]
    },
    {
      "cell_type": "markdown",
      "source": [
        "Explanation:\n",
        "Mutable Argument (my_list):\n",
        "\n",
        "The function demonstrate_mutable_immutable() takes two arguments: mutable_arg and immutable_arg.\n",
        "Inside the function, we modify mutable_arg, which is a list (my_list). The method .append() is used to add an element to the list. Since lists are mutable, this modification affects the original my_list outside the function as well.\n",
        "Immutable Argument (my_number):\n",
        "\n",
        "The variable immutable_arg is passed as an integer (my_number), which is immutable. Inside the function, we attempt to reassign immutable_arg = 20, which does not modify the original my_number. Instead, it creates a new local reference, leaving the original my_number unchanged outside the function.\n",
        "\n",
        "Key Points:\n",
        "Mutable objects (like lists) can be changed inside a function, and the change is reflected outside the function.\n",
        "Immutable objects (like integers) cannot be modified inside a function. Reassigning the value inside the function only affects the local copy, and the original value remains unchanged outside the function."
      ],
      "metadata": {
        "id": "1Mm_K7ut0Dj0"
      }
    },
    {
      "cell_type": "code",
      "source": [],
      "metadata": {
        "id": "QH0cdvj-0CE9"
      },
      "execution_count": null,
      "outputs": []
    },
    {
      "cell_type": "markdown",
      "source": [
        "8. Write a program to demonstrate the use of logical operators\n",
        "\n",
        "\n",
        "Ans. Logical operators in Python are used to combine multiple conditions or expressions. The three main logical operators are:\n",
        "\n",
        "and: Returns True if both conditions are True.\n",
        "or: Returns True if at least one condition is True.\n",
        "not: Reverses the logical state, returns True if the condition is False, and False if the condition is True.\n",
        "Here is a Python program that demonstrates the use of logical operators:\n",
        "\n",
        "Code:\n"
      ],
      "metadata": {
        "id": "ntxolIDk0N25"
      }
    },
    {
      "cell_type": "code",
      "source": [
        "# Demonstrating logical operators in Python\n",
        "\n",
        "# Initial values for the variables\n",
        "a = 10\n",
        "b = 20\n",
        "c = 30\n",
        "\n",
        "# Using 'and' operator\n",
        "if a < b and b < c:\n",
        "    print(\"Both conditions are True for 'and' operator.\")\n",
        "else:\n",
        "    print(\"One or both conditions are False for 'and' operator.\")\n",
        "\n",
        "# Using 'or' operator\n",
        "if a > b or b < c:\n",
        "    print(\"At least one condition is True for 'or' operator.\")\n",
        "else:\n",
        "    print(\"Both conditions are False for 'or' operator.\")\n",
        "\n",
        "# Using 'not' operator\n",
        "if not a > b:\n",
        "    print(\"Condition is False, so 'not' reverses it to True.\")\n",
        "else:\n",
        "    print(\"Condition is True, so 'not' reverses it to False.\")\n"
      ],
      "metadata": {
        "colab": {
          "base_uri": "https://localhost:8080/"
        },
        "id": "-ubggKTv0S6_",
        "outputId": "e20356a2-c704-46ca-c082-b911eaf58ce4"
      },
      "execution_count": 11,
      "outputs": [
        {
          "output_type": "stream",
          "name": "stdout",
          "text": [
            "Both conditions are True for 'and' operator.\n",
            "At least one condition is True for 'or' operator.\n",
            "Condition is False, so 'not' reverses it to True.\n"
          ]
        }
      ]
    },
    {
      "cell_type": "markdown",
      "source": [
        "Explanation:\n",
        "and Operator:\n",
        "\n",
        "The condition a < b and b < c is checked. Both conditions must be True for the overall condition to be True.\n",
        "Since a is less than b and b is less than c, the output will indicate that both conditions are true for the and operator.\n",
        "or Operator:\n",
        "\n",
        "The condition a > b or b < c is checked. The overall condition will be True if at least one of the conditions is True.\n",
        "Here, a > b is False, but b < c is True, so the output will indicate that at least one condition is true for the or operator.\n",
        "not Operator:\n",
        "\n",
        "The condition not a > b is checked. The not operator reverses the condition.\n",
        "Since a > b is False, applying not makes it True, and the output will reflect that the condition is reversed by not.\n",
        "\n",
        "Key Points:\n",
        "The and operator returns True only if both conditions are True.\n",
        "The or operator returns True if at least one condition is True.\n",
        "The not operator inverts the truth value of a condition. If the condition is True, it returns False, and if it's False, it returns True."
      ],
      "metadata": {
        "id": "Bk5RAa_Z0qou"
      }
    },
    {
      "cell_type": "markdown",
      "source": [
        "9.  Write a Python program to convert user input from string to integer, float, and boolean types.\n",
        "\n",
        "Ans - Here's a Python program that demonstrates how to convert user input from a string to different data types, including integer, float, and boolean:\n",
        "\n",
        "Code:\n"
      ],
      "metadata": {
        "id": "RiJIVwgS0w27"
      }
    },
    {
      "cell_type": "code",
      "source": [
        "# Get user input as a string\n",
        "user_input = input(\"Enter a value: \")\n",
        "\n",
        "# Convert string to integer\n",
        "try:\n",
        "    user_input_int = int(user_input)\n",
        "    print(f\"The input as an integer: {user_input_int}\")\n",
        "except ValueError:\n",
        "    print(\"The input is not a valid integer.\")\n",
        "\n",
        "# Convert string to float\n",
        "try:\n",
        "    user_input_float = float(user_input)\n",
        "    print(f\"The input as a float: {user_input_float}\")\n",
        "except ValueError:\n",
        "    print(\"The input is not a valid float.\")\n",
        "\n",
        "# Convert string to boolean\n",
        "if user_input.lower() in ['true', '1', 't', 'y', 'yes']:\n",
        "    user_input_bool = True\n",
        "elif user_input.lower() in ['false', '0', 'f', 'n', 'no']:\n",
        "    user_input_bool = False\n",
        "else:\n",
        "    print(\"Invalid input for boolean conversion.\")\n",
        "    user_input_bool = None\n",
        "\n",
        "if user_input_bool is not None:\n",
        "    print(f\"The input as a boolean: {user_input_bool}\")\n"
      ],
      "metadata": {
        "colab": {
          "base_uri": "https://localhost:8080/"
        },
        "id": "5Zh6pdaO1XIV",
        "outputId": "2adf6bf1-cf8d-4b5a-f8de-8ea8cc17cb16"
      },
      "execution_count": 12,
      "outputs": [
        {
          "output_type": "stream",
          "name": "stdout",
          "text": [
            "Enter a value: 123\n",
            "The input as an integer: 123\n",
            "The input as a float: 123.0\n",
            "Invalid input for boolean conversion.\n"
          ]
        }
      ]
    },
    {
      "cell_type": "markdown",
      "source": [
        "Key Points:\n",
        "The input() function always returns a string. You need to explicitly convert it to the desired data type (integer, float, or boolean).\n",
        "The program uses exception handling (try-except) to manage invalid inputs for integer and float conversions.\n",
        "Boolean conversion checks if the string is a common representation of True or False.\n",
        "\n",
        "\n",
        "\n",
        "\n",
        "\n",
        "\n"
      ],
      "metadata": {
        "id": "yqUO3fQj1yCw"
      }
    },
    {
      "cell_type": "markdown",
      "source": [
        "10. Write code to demonstrate type casting with list elements.\n",
        "\n",
        "Ans. Here is a Python program that demonstrates type casting with elements in a list. In this example, we will convert elements in a list from one data type to another:\n",
        "\n",
        "Code:"
      ],
      "metadata": {
        "id": "0jY_Fldo12Vg"
      }
    },
    {
      "cell_type": "code",
      "source": [
        "# Original list with mixed data types (string numbers, integer, and float)\n",
        "original_list = [\"10\", \"20.5\", \"30\", 40, 50.75]\n",
        "\n",
        "# Convert all elements to integers\n",
        "int_list = [int(float(item)) if isinstance(item, str) else int(item) for item in original_list]\n",
        "print(\"List after converting all elements to integers:\", int_list)\n",
        "\n",
        "# Convert all elements to floats\n",
        "float_list = [float(item) if isinstance(item, str) else float(item) for item in original_list]\n",
        "print(\"List after converting all elements to floats:\", float_list)\n",
        "\n",
        "# Convert all elements to strings\n",
        "string_list = [str(item) for item in original_list]\n",
        "print(\"List after converting all elements to strings:\", string_list)\n",
        "\n",
        "# Convert all elements to booleans\n",
        "boolean_list = [bool(item) for item in original_list]\n",
        "print(\"List after converting all elements to booleans:\", boolean_list)\n"
      ],
      "metadata": {
        "colab": {
          "base_uri": "https://localhost:8080/"
        },
        "id": "V227d1ci2DND",
        "outputId": "1c419d02-f807-4c2e-f0e3-aedf6b9130aa"
      },
      "execution_count": 13,
      "outputs": [
        {
          "output_type": "stream",
          "name": "stdout",
          "text": [
            "List after converting all elements to integers: [10, 20, 30, 40, 50]\n",
            "List after converting all elements to floats: [10.0, 20.5, 30.0, 40.0, 50.75]\n",
            "List after converting all elements to strings: ['10', '20.5', '30', '40', '50.75']\n",
            "List after converting all elements to booleans: [True, True, True, True, True]\n"
          ]
        }
      ]
    },
    {
      "cell_type": "markdown",
      "source": [
        "Explanation:\n",
        "We start with a list original_list that contains elements of different types: some are strings representing numbers, and others are integers or floats.\n",
        "\n",
        "Convert to Integers:\n",
        "\n",
        "Each element is first converted to a float (if it is a string representing a number) and then to an int.\n",
        "For other types (integers or floats), it directly converts to an integer.\n",
        "Convert to Floats:\n",
        "\n",
        "Each element is converted to a float. If the element is a string, it's first converted to a float. If it's already an integer or float, it's directly cast to a float.\n",
        "Convert to Strings:\n",
        "\n",
        "Each element is converted to a string using the str() function.\n",
        "Convert to Booleans:\n",
        "\n",
        "The bool() function converts each element to a boolean value.\n",
        "For Python, any non-zero number (including non-empty strings or non-empty lists) evaluates to True, and 0 or an empty string/list evaluates to False.\n",
        "\n",
        "\n",
        "Key Points:\n",
        "Type casting is used to convert data from one type to another, which is especially useful when dealing with mixed data types in a list.\n",
        "The list comprehension technique is used to apply type casting to each element of the list.\n",
        "The isinstance() function is used to check the type of each element before casting it (e.g., checking if the element is a string before trying to convert it to a float."
      ],
      "metadata": {
        "id": "4KDqxxig2Kof"
      }
    },
    {
      "cell_type": "markdown",
      "source": [
        "11. Write a program that checks if a number is positive, negative, or zero.\n",
        "\n",
        "Ans. Here is a simple Python program that checks if a given number is positive, negative, or zero:\n",
        "\n",
        "Code:"
      ],
      "metadata": {
        "id": "zCu_KcYc2avj"
      }
    },
    {
      "cell_type": "code",
      "source": [
        "# Get user input\n",
        "number = float(input(\"Enter a number: \"))\n",
        "\n",
        "# Check if the number is positive, negative, or zero\n",
        "if number > 0:\n",
        "    print(\"The number is positive.\")\n",
        "elif number < 0:\n",
        "    print(\"The number is negative.\")\n",
        "else:\n",
        "    print(\"The number is zero.\")\n"
      ],
      "metadata": {
        "colab": {
          "base_uri": "https://localhost:8080/"
        },
        "id": "FbUCYltA2z33",
        "outputId": "8f32ddd5-71a0-4be1-8b35-8641927461d5"
      },
      "execution_count": 14,
      "outputs": [
        {
          "output_type": "stream",
          "name": "stdout",
          "text": [
            "Enter a number: 2\n",
            "The number is positive.\n"
          ]
        }
      ]
    },
    {
      "cell_type": "markdown",
      "source": [
        "Explanation:\n",
        "Input: The program uses input() to get the number from the user. The input is then converted to a float to handle both integer and floating-point numbers.\n",
        "\n",
        "Condition Check:\n",
        "\n",
        "Positive: If the number is greater than 0, the program will print \"The number is positive.\"\n",
        "Negative: If the number is less than 0, the program will print \"The number is negative.\"\n",
        "Zero: If the number is equal to 0, the program will print \"The number is zero.\"\n",
        "\n",
        "Key Points:\n",
        "The program handles both integers and floating-point numbers by converting the input to a float.\n",
        "It uses a simple series of if, elif, and else statements to check if the number is positive, negative, or zero."
      ],
      "metadata": {
        "id": "ZCjwPiy028aj"
      }
    },
    {
      "cell_type": "markdown",
      "source": [
        "12. Write a for loop to print numbers from 1 to 100\n",
        "\n",
        "Ans. Here is a Python program using a for loop to print numbers from 1 to 100:\n",
        "\n",
        "Code:"
      ],
      "metadata": {
        "id": "WVhfiJc_3fWe"
      }
    },
    {
      "cell_type": "code",
      "source": [
        "# Using a for loop to print numbers from 1 to 100\n",
        "for num in range(1, 101):\n",
        "    print(num)\n"
      ],
      "metadata": {
        "colab": {
          "base_uri": "https://localhost:8080/"
        },
        "id": "51PsHERb3spl",
        "outputId": "d6a800b7-d617-475b-d1e0-1b88c38727a9"
      },
      "execution_count": 15,
      "outputs": [
        {
          "output_type": "stream",
          "name": "stdout",
          "text": [
            "1\n",
            "2\n",
            "3\n",
            "4\n",
            "5\n",
            "6\n",
            "7\n",
            "8\n",
            "9\n",
            "10\n",
            "11\n",
            "12\n",
            "13\n",
            "14\n",
            "15\n",
            "16\n",
            "17\n",
            "18\n",
            "19\n",
            "20\n",
            "21\n",
            "22\n",
            "23\n",
            "24\n",
            "25\n",
            "26\n",
            "27\n",
            "28\n",
            "29\n",
            "30\n",
            "31\n",
            "32\n",
            "33\n",
            "34\n",
            "35\n",
            "36\n",
            "37\n",
            "38\n",
            "39\n",
            "40\n",
            "41\n",
            "42\n",
            "43\n",
            "44\n",
            "45\n",
            "46\n",
            "47\n",
            "48\n",
            "49\n",
            "50\n",
            "51\n",
            "52\n",
            "53\n",
            "54\n",
            "55\n",
            "56\n",
            "57\n",
            "58\n",
            "59\n",
            "60\n",
            "61\n",
            "62\n",
            "63\n",
            "64\n",
            "65\n",
            "66\n",
            "67\n",
            "68\n",
            "69\n",
            "70\n",
            "71\n",
            "72\n",
            "73\n",
            "74\n",
            "75\n",
            "76\n",
            "77\n",
            "78\n",
            "79\n",
            "80\n",
            "81\n",
            "82\n",
            "83\n",
            "84\n",
            "85\n",
            "86\n",
            "87\n",
            "88\n",
            "89\n",
            "90\n",
            "91\n",
            "92\n",
            "93\n",
            "94\n",
            "95\n",
            "96\n",
            "97\n",
            "98\n",
            "99\n",
            "100\n"
          ]
        }
      ]
    },
    {
      "cell_type": "markdown",
      "source": [
        "Key Points:\n",
        "The range() function is very useful when you need to generate a sequence of numbers.\n",
        "The for loop will iterate through each number in the range and print it one by one.\n",
        "\n",
        "\n",
        "\n",
        "\n",
        "\n"
      ],
      "metadata": {
        "id": "pz-8Hhhr36xA"
      }
    },
    {
      "cell_type": "markdown",
      "source": [
        "13. Write a Python program to find the sum of all even numbers between 1 and 50\n",
        "\n",
        "Ans. Here's a Python program that calculates the sum of all even numbers between 1 and 50:\n",
        "\n",
        "Code:"
      ],
      "metadata": {
        "id": "ZCvnT_uW4E-h"
      }
    },
    {
      "cell_type": "code",
      "source": [
        "# Initialize sum variable\n",
        "sum_even = 0\n",
        "\n",
        "# Loop through numbers from 1 to 50\n",
        "for num in range(1, 51):\n",
        "    if num % 2 == 0:  # Check if the number is even\n",
        "        sum_even += num  # Add the even number to the sum\n",
        "\n",
        "# Print the result\n",
        "print(\"The sum of all even numbers between 1 and 50 is:\", sum_even)\n"
      ],
      "metadata": {
        "colab": {
          "base_uri": "https://localhost:8080/"
        },
        "id": "6wGHupYM4Zwj",
        "outputId": "fb95b65f-cc90-4905-a1c9-af9001ccddc4"
      },
      "execution_count": 16,
      "outputs": [
        {
          "output_type": "stream",
          "name": "stdout",
          "text": [
            "The sum of all even numbers between 1 and 50 is: 650\n"
          ]
        }
      ]
    },
    {
      "cell_type": "markdown",
      "source": [
        "Explanation:\n",
        "range(1, 51): Generates numbers from 1 to 50 (inclusive).\n",
        "if num % 2 == 0: This condition checks if the number is even. If the remainder when dividing num by 2 is 0, the number is even.\n",
        "sum_even += num: If the number is even, it is added to the variable sum_even.\n",
        "Result: After the loop finishes, the program prints the sum of all even numbers between 1 and 50.\n",
        "\n",
        "Key Points:\n",
        "The % (modulus) operator is used to check if a number is divisible by 2.\n",
        "This program efficiently sums the even numbers by looping only once through the range.\n",
        "\n",
        "\n",
        "\n",
        "\n",
        "\n"
      ],
      "metadata": {
        "id": "GR63u7qm4z0N"
      }
    },
    {
      "cell_type": "markdown",
      "source": [
        "14. Write a program to reverse a string using a while loop\n",
        "\n",
        "Ans. Here's a Python program that reverses a string using a while loop:\n",
        "\n",
        "Code:"
      ],
      "metadata": {
        "id": "6xasGzVd5DCN"
      }
    },
    {
      "cell_type": "code",
      "source": [
        "# Input string from the user\n",
        "input_string = input(\"Enter a string: \")\n",
        "\n",
        "# Initialize an empty string to store the reversed string\n",
        "reversed_string = \"\"\n",
        "\n",
        "# Set an index variable to point to the last character of the string\n",
        "index = len(input_string) - 1\n",
        "\n",
        "# Use a while loop to iterate through the string from the last character to the first\n",
        "while index >= 0:\n",
        "    reversed_string += input_string[index]  # Add the current character to the reversed string\n",
        "    index -= 1  # Move to the previous character\n",
        "\n",
        "# Print the reversed string\n",
        "print(\"The reversed string is:\", reversed_string)\n"
      ],
      "metadata": {
        "colab": {
          "base_uri": "https://localhost:8080/"
        },
        "id": "ZoxdXhE15jjG",
        "outputId": "4ff96921-4797-48ba-9cb0-3dacc7d93b67"
      },
      "execution_count": 17,
      "outputs": [
        {
          "output_type": "stream",
          "name": "stdout",
          "text": [
            "Enter a string: Rahul\n",
            "The reversed string is: luhaR\n"
          ]
        }
      ]
    },
    {
      "cell_type": "markdown",
      "source": [
        "Key Points:\n",
        "The while loop helps iterate through the string backwards by decreasing the index.\n",
        "The += operator is used to build the reversed string step by step."
      ],
      "metadata": {
        "id": "nWI3ichL5vr0"
      }
    },
    {
      "cell_type": "code",
      "source": [],
      "metadata": {
        "id": "i-VjxY8T5ygD"
      },
      "execution_count": null,
      "outputs": []
    },
    {
      "cell_type": "markdown",
      "source": [
        "15. Write a Python program to calculate the factorial of a number provided by the user using a while loop\n",
        "\n",
        "Ans. Here is a Python program that calculates the factorial of a number provided by the user using a while loop:\n",
        "\n",
        "Code:"
      ],
      "metadata": {
        "id": "_jznyjEb53dL"
      }
    },
    {
      "cell_type": "code",
      "source": [
        "# Input number from the user\n",
        "number = int(input(\"Enter a number to find its factorial: \"))\n",
        "\n",
        "# Initialize the factorial result to 1\n",
        "factorial = 1\n",
        "\n",
        "# Check if the number is negative, as factorials are not defined for negative numbers\n",
        "if number < 0:\n",
        "    print(\"Factorial is not defined for negative numbers.\")\n",
        "else:\n",
        "    # Use a while loop to calculate the factorial\n",
        "    while number > 0:\n",
        "        factorial *= number  # Multiply the current factorial by the number\n",
        "        number -= 1  # Decrement the number by 1\n",
        "\n",
        "    # Print the result\n",
        "    print(\"The factorial is:\", factorial)\n"
      ],
      "metadata": {
        "colab": {
          "base_uri": "https://localhost:8080/"
        },
        "id": "wzXWd4v567Vq",
        "outputId": "a0bfe8ed-3eb3-42e7-ac92-128410c34cca"
      },
      "execution_count": 18,
      "outputs": [
        {
          "output_type": "stream",
          "name": "stdout",
          "text": [
            "Enter a number to find its factorial: 5\n",
            "The factorial is: 120\n"
          ]
        }
      ]
    },
    {
      "cell_type": "markdown",
      "source": [
        "Key Points:\n",
        "Factorial of a number n is the product of all positive integers less than or equal to n. For example, 5! = 5 * 4 * 3 * 2 * 1 = 120.\n",
        "The while loop keeps multiplying the current value of factorial with the current number and then reduces the number until it becomes 0.\n",
        "\n",
        "\n",
        "\n",
        "# thanks this is my first assignment made by Rahul Joshi"
      ],
      "metadata": {
        "id": "RC9dGSJ87VQf"
      }
    }
  ]
}