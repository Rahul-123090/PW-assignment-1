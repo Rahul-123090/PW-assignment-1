{
  "nbformat": 4,
  "nbformat_minor": 0,
  "metadata": {
    "colab": {
      "provenance": []
    },
    "kernelspec": {
      "name": "python3",
      "display_name": "Python 3"
    },
    "language_info": {
      "name": "python"
    }
  },
  "cells": [
    {
      "cell_type": "markdown",
      "source": [
        "## Assignment paper 2  of PW Skills"
      ],
      "metadata": {
        "id": "AWHl56QLntin"
      }
    },
    {
      "cell_type": "markdown",
      "source": [
        "1. What are data structures, and why are they important ?\n",
        "\n",
        "Ans. Data structures are specialized ways to organize, manage, and store data in a computer to enable efficient access and modification. They are fundamental tools in computer science and programming that allow us to process data effectively.\n",
        "\n",
        "Examples of Data Structures:\n",
        "Arrays: Store elements of the same type in contiguous memory locations.\n",
        "Lists: Dynamic data structures to store a collection of elements.\n",
        "Stacks: Follow the Last In, First Out (LIFO) principle.\n",
        "Queues: Follow the First In, First Out (FIFO) principle.\n",
        "Dictionaries: Store data as key-value pairs.\n",
        "Graphs and Trees: Represent relationships and hierarchies.\n",
        "\n",
        "Why Are Data Structures Important?\n",
        "Efficiency:\n",
        "Data structures enable efficient processing of data. For example, searching for an element in a dictionary is much faster than in a list due to hashing.\n",
        "\n",
        "Manage Complexity:\n",
        "They simplify the development of complex algorithms by providing structured ways to store and manipulate data.\n",
        "\n",
        "Optimization:\n",
        "The choice of the right data structure can optimize memory usage and speed, saving resources.\n",
        "\n",
        "Problem Solving:\n",
        "Many real-world problems, such as navigation systems or social networks, rely on advanced data structures like graphs.\n",
        "\n",
        "Reusability:\n",
        "Once designed, data structures can be reused in different applications and systems.\n",
        "\n",
        "Real-Life Analogy:\n",
        "Think of data structures like containers. If you need to store a large number of items, using the right container (box, shelf, or file) makes it easier to find or modify them. Similarly, in programming, the choice of the right data structure ensures better performance and organization."
      ],
      "metadata": {
        "id": "IiS8FEYuntmt"
      }
    },
    {
      "cell_type": "markdown",
      "source": [
        "1.  Explain the difference between mutable and immutable data types with examples ?\n",
        "\n",
        "Ans. Difference Between Mutable and Immutable Data Types\n",
        "In Python, data types are categorized as mutable or immutable based on whether their values can be changed after they are created.\n",
        "\n",
        "1. Mutable Data Types\n",
        "Definition: Mutable data types allow changes to their values after they are created.\n",
        "Examples: Lists, Dictionaries, Sets, etc.\n",
        "\n",
        "# Mutable: List\n",
        "my_list = [1, 2, 3]\n",
        "my_list[0] = 10  # Modifying the first element\n",
        "print(my_list)  # Output: [10, 2, 3]\n",
        "\n",
        "\n",
        "2. Immutable Data Types\n",
        "Definition: Immutable data types do not allow changes to their values after they are created. Any modification creates a new object.\n",
        "Examples: Strings, Tuples, Integers, Floats, etc.\n",
        "\n",
        "# Immutable: String\n",
        "my_string = \"Hello\"\n",
        "new_string = my_string.replace(\"H\", \"J\")  # Creates a new string\n",
        "print(my_string)  # Output: Hello\n",
        "print(new_string)  # Output: Jello\n",
        "\n",
        "Why This Matters:\n",
        "Mutability is useful for data that changes frequently, like a list of tasks.\n",
        "Immutability ensures data integrity, making it ideal for constants or keys in dictionaries"
      ],
      "metadata": {
        "id": "VYdv_uVWntpR"
      }
    },
    {
      "cell_type": "markdown",
      "source": [
        "3. What are the main differences between lists and tuples in Python ?\n",
        "\n",
        "Ans. The main differences between lists and tuples in Python are:\n",
        "\n",
        "Mutability:\n",
        "\n",
        "Lists are mutable, meaning their elements can be changed, added, or removed after creation.\n",
        "Tuples are immutable, meaning once created, their elements cannot be changed, added, or removed.\n",
        "Syntax:\n",
        "\n",
        "Lists are defined using square brackets: [1, 2, 3]\n",
        "Tuples are defined using parentheses: (1, 2, 3)\n",
        "Performance:\n",
        "\n",
        "Tuples are generally faster than lists when it comes to iteration and access because they are immutable and thus require less memory overhead.\n",
        "Lists are slightly slower due to their mutability and the extra operations they can perform (e.g., appending).\n",
        "Use Cases:\n",
        "\n",
        "Lists are used when you need a collection of items that may change over time (e.g., adding/removing elements).\n",
        "Tuples are used when you need a collection of items that should not be modified, and you want to ensure the integrity of the data (e.g., coordinates, function returns).\n",
        "Methods:\n",
        "\n",
        "Lists have more built-in methods, such as .append(), .remove(), .insert(), .pop(), and .extend(), because they are mutable.\n",
        "Tuples have fewer methods, such as .count() and .index(), because they are immutable.\n",
        "Memory Efficiency:\n",
        "\n",
        "Tuples use less memory than lists because they are immutable.\n",
        "Lists consume more memory due to their ability to dynamically change size.\n",
        "These differences guide how you choose between them based on your specific use case."
      ],
      "metadata": {
        "id": "hNc3amgbntrt"
      }
    },
    {
      "cell_type": "markdown",
      "source": [
        "4. Describe how dictionaries store data.\n",
        "\n",
        "Ans. Dictionaries in Python store data in key-value pairs. Here's a breakdown of how this works:\n",
        "\n",
        "Key-Value Pairs:\n",
        "\n",
        "A dictionary is made up of keys and values. Each key is associated with a specific value. The key is used to access its corresponding value.\n",
        "Example:\n",
        "\n",
        "my_dict = {'name': 'Alice', 'age': 25, 'city': 'New York'}\n",
        "\n",
        "\n",
        "Uniqueness of Keys:\n",
        "\n",
        "Keys in a dictionary must be unique. You cannot have two identical keys. If you try to assign a new value to an existing key, the old value will be replaced.\n",
        "Example:\n",
        "python\n",
        "\n",
        "my_dict = {'name': 'Alice', 'age': 25}\n",
        "my_dict['age'] = 26  # Updates the value of 'age' to 26\n",
        "\n",
        "Unordered:\n",
        "\n",
        "Dictionaries are unordered, meaning that the key-value pairs do not have a specific order (though this changed with Python 3.7, where insertion order is preserved).\n",
        "In older versions (before Python 3.7), the order of items in a dictionary was not guaranteed.\n",
        "Keys are Immutable:\n",
        "\n",
        "The keys of a dictionary must be of a hashable type, which usually means they should be immutable (e.g., strings, numbers, tuples). You cannot use lists or other mutable types as dictionary keys.\n",
        "Example:\n",
        "python\n",
        "\n",
        "my_dict = {(1, 2): 'a', (3, 4): 'b'}  # This is valid\n",
        "my_dict = {[1, 2]: 'c'}  # This will raise an error (because lists are mutable)\n",
        "\n",
        "Efficient Lookup:\n",
        "\n",
        "Dictionaries use a hash table under the hood, which allows for efficient lookups based on the key. The hash value of the key is used to quickly locate the associated value.\n",
        "This makes dictionary lookups very fast, with an average time complexity of O(1).\n",
        "Example Operations:\n",
        "\n",
        "Adding a key-value pair:\n",
        "python\n",
        "\n",
        "my_dict['gender'] = 'Female'\n",
        "\n",
        "Dictionaries are useful for storing data where you need fast access using a custom key, such as mapping a student's ID to their name or associating product codes with their prices.\n",
        "\n",
        "\n",
        "\n",
        "\n",
        "\n",
        "\n",
        "\n",
        "\n",
        "\n"
      ],
      "metadata": {
        "id": "TqJSaKn3ntur"
      }
    },
    {
      "cell_type": "markdown",
      "source": [
        "5. Why might you use a set instead of a list in Python?\n",
        "\n",
        "Ans. You might use a set instead of a list in Python for the following reasons:\n",
        "\n",
        "Uniqueness of Elements:\n",
        "\n",
        "A set automatically ensures that all its elements are unique. If you try to add duplicate elements to a set, they will be ignored.\n",
        "Example:\n",
        "python\n",
        "\n",
        "my_set = {1, 2, 3, 4, 4}  # The set will contain {1, 2, 3, 4}, duplicate 4 is ignored\n",
        "\n",
        "Lists can contain duplicate elements, and you need to manually filter out duplicates if needed.\n",
        "Faster Membership Tests:\n",
        "\n",
        "Sets are implemented using a hash table, which makes membership testing (checking if an element exists in the set) faster. The average time complexity for checking membership in a set is O(1), while in a list, it is O(n).\n",
        "\n",
        "my_set = {1, 2, 3, 4}\n",
        "3 in my_set  # Very fast lookup in sets\n",
        "\n",
        "Mathematical Set Operations:\n",
        "\n",
        "Sets support several mathematical operations like union, intersection, difference, and symmetric difference. These operations can be performed easily and efficiently.\n",
        "Example:\n",
        "python\n",
        "\n",
        "\n",
        "set1 = {1, 2, 3}\n",
        "set2 = {3, 4, 5}\n",
        "print(set1 & set2)  # Intersection: {3}\n",
        "print(set1 | set2)  # Union: {1, 2, 3, 4, 5}\n",
        "print(set1 - set2)  # Difference: {1, 2}\n",
        "\n",
        "\n",
        "No Duplicate Order:\n",
        "\n",
        "Sets are unordered collections, meaning the elements have no specific order. This can be useful when you care only about the uniqueness of elements and do not require ordering (e.g., counting distinct items).\n",
        "Lists, on the other hand, maintain the order of elements and are useful when order is important.\n",
        "Immutability of Frozensets:\n",
        "\n",
        "If you need an immutable version of a set, you can use a frozenset. It behaves like a set but cannot be modified once created. This can be helpful when you need to use sets as keys in dictionaries or store them in other sets.\n",
        "\n",
        "Memory Efficiency:\n",
        "\n",
        "Sets are generally more memory-efficient for storing unique items because they do not store duplicates and use a hash-based structure. However, the trade-off is that they do not store elements in a specific order, unlike lists.\n",
        "When to use a list instead of a set:\n",
        "Use a list when you need to maintain the order of elements or when you want to allow duplicates.\n",
        "Use a set when you need unique elements, faster membership testing, or mathematical set operations.\n",
        "\n",
        "\n",
        "\n",
        "\n",
        "\n",
        "\n"
      ],
      "metadata": {
        "id": "ID8OsUdSntxd"
      }
    },
    {
      "cell_type": "markdown",
      "source": [
        "6. What is a string in Python, and how is it different from a list\n",
        "\n",
        "Ans. A string in Python is a sequence of characters enclosed in single (') or double (\") quotes. It is used to represent text data.\n",
        "\n",
        "Key Features of a String:\n",
        "Immutable: Once a string is created, its content cannot be changed. Any operation that appears to modify a string actually creates a new string.\n",
        "Character Sequence: A string is a sequence of characters, which can be accessed using indexing and slicing.\n",
        "Methods: Strings come with built-in methods for manipulation, such as .lower(), .upper(), .replace(), .split(), etc.\n",
        "Example of a String:\n",
        "\n",
        "my_string = \"Hello, world!\"\n",
        "print(my_string[0])  # Output: 'H'\n",
        "print(my_string[7:12])  # Output: 'world'\n",
        "\n",
        "Differences Between a String and a List:\n",
        "Mutability:\n",
        "\n",
        "String: Immutable – the contents cannot be changed after the string is created.\n",
        "List: Mutable – the contents of a list can be modified, such as adding, removing, or changing elements.\n",
        "Example:\n",
        "\n",
        "my_string = \"Hello\"\n",
        "# my_string[0] = 'h'  # This would raise an error because strings are immutable\n",
        "\n",
        "my_list = ['H', 'e', 'l', 'l', 'o']\n",
        "my_list[0] = 'h'  # This is allowed because lists are mutable\n",
        "\n",
        "\n",
        "Type of Elements:\n",
        "\n",
        "String: A string contains characters (text data) only.\n",
        "List: A list can contain elements of any type, including numbers, strings, and other lists.\n",
        "Example:\n",
        "\n",
        "python\n",
        "\n",
        "my_string = \"Hello\"\n",
        "my_list = [1, 2, 'a', True]  # A list with mixed data types\n",
        "\n",
        "In Summary:\n",
        "Strings: Immutable sequences of characters, primarily used for text.\n",
        "Lists: Mutable sequences that can contain elements of any type, useful for general-purpose collections."
      ],
      "metadata": {
        "id": "6U9xd4p2nt1A"
      }
    },
    {
      "cell_type": "markdown",
      "source": [
        "7. How do tuples ensure data integrity in Python.\n",
        "\n",
        "Ans. Tuples in Python help ensure data integrity in several ways:\n",
        "\n",
        "1. Immutability:\n",
        "The primary feature that makes tuples suitable for ensuring data integrity is that they are immutable. Once a tuple is created, its elements cannot be changed, added, or removed.\n",
        "This guarantees that the data within the tuple remains unchanged throughout the program, which is useful when you need to ensure that a set of values should not be modified by mistake.\n",
        "Example:\n",
        "\n",
        "my_tuple = (1, 2, 3)\n",
        "# my_tuple[0] = 4  # This will raise a TypeError, as tuples are immutable\n",
        "\n",
        "\n",
        "2. Hashable:\n",
        "Because tuples are immutable, they are hashable. This means you can use tuples as keys in a dictionary or store them in a set, unlike lists, which are mutable and not hashable.\n",
        "This allows you to rely on tuples in situations where the integrity of the key (or data) is important, like ensuring no unintended changes occur in a dictionary.\n",
        "Example:\n",
        "\n",
        "my_dict = {('apple', 'red'): 'fruit', ('carrot', 'orange'): 'vegetable'}\n",
        "# The keys ('apple', 'red') and ('carrot', 'orange') cannot be modified\n",
        "\n",
        "3. Preventing Accidental Modifications:\n",
        "By using a tuple, you prevent accidental modifications to the data. This is particularly important when you're working with fixed data that should not change, like coordinates, configuration settings, or data retrieved from external sources.\n",
        "Example:\n",
        "\n",
        "coordinates = (10.5, 20.3)  # Tuple to store coordinates\n",
        "# coordinates[0] = 15  # This would raise an error and prevent accidental modification\n",
        "\n",
        "\n",
        "4. Function Returns:\n",
        "When functions return multiple values, they are often returned as tuples. This ensures that the returned values are not accidentally modified, preserving their integrity.\n",
        "Example:\n",
        "\n",
        "python\n",
        "\n",
        "def get_coordinates():\n",
        "    return (10.5, 20.3)\n",
        "\n",
        "coords = get_coordinates()\n",
        "# coords[0] = 15  # This would raise an error and prevent modification of the returned data\n",
        "\n",
        "5. Data Integrity in Parallelism:\n",
        "When tuples are used in multi-threaded or multi-processing environments, they provide a safe way to store and pass data without the risk of race conditions, since their values cannot be modified after creation.\n",
        "In Summary:\n",
        "Immutability is the key factor in ensuring that data in a tuple remains consistent and cannot be accidentally changed, thereby preserving its integrity.\n",
        "Tuples provide a reliable way to store data that must remain constant throughout the execution of the program, making them ideal for situations where data integrity is critical.\n",
        "\n",
        "\n",
        "\n",
        "\n",
        "\n",
        "\n"
      ],
      "metadata": {
        "id": "z_S0zv0Bnt-u"
      }
    },
    {
      "cell_type": "markdown",
      "source": [
        "8. What is a hash table, and how does it relate to dictionaries in Python\n",
        "\n",
        "Ans. A hash table (also known as a hash map) is a data structure that stores key-value pairs and allows for efficient retrieval, insertion, and deletion operations. It is based on a technique called hashing, where a hash function is used to compute an index (called a hash code) from the key. This index is then used to store the value in an array or a similar structure.\n",
        "\n",
        "How a Hash Table Works:\n",
        "Hash Function: A hash function takes the key and converts it into an index (or hash code) that corresponds to a position in an underlying array.\n",
        "\n",
        "For example, a string key like 'apple' might be converted by a hash function into a specific integer that represents its position in the array.\n",
        "Buckets: The hash table uses an array (or a list of buckets) to store the key-value pairs. Each bucket corresponds to a hash code, and each bucket holds the value associated with a specific key.\n",
        "\n",
        "Handling Collisions: Sometimes, two different keys might produce the same hash code (a collision). To handle this, hash tables use strategies like chaining (where multiple values are stored in the same bucket) or open addressing (where the hash table looks for the next available bucket).\n",
        "\n",
        "Efficiency:\n",
        "\n",
        "In an ideal situation, hash table operations (like insertion, deletion, and lookup) have an average time complexity of O(1), which makes hash tables highly efficient.\n",
        "However, in the worst case (due to many collisions), these operations can degrade to O(n), where n is the number of elements in the hash table.\n",
        "Hash Tables in Python: Dictionaries\n",
        "In Python, the built-in dictionary (dict) is implemented using a hash table.\n",
        "\n",
        "Key-Value Pairs: A dictionary stores data in the form of key-value pairs, just like a hash table. Each key is hashed using Python's built-in hash() function, and the resulting hash code is used to determine the index where the value associated with that key is stored.\n",
        "\n",
        "Efficiency: Python dictionaries provide O(1) average time complexity for lookup, insertion, and deletion due to the hash table implementation.\n",
        "\n",
        "Handling Collisions: Python's dictionary implementation uses open addressing with quadratic probing to handle hash collisions.\n",
        "\n",
        "Example of a Dictionary (Hash Table) in Python:\n",
        "\n",
        "# Creating a dictionary (hash table)\n",
        "my_dict = {'name': 'Alice', 'age': 25, 'city': 'New York'}\n",
        "\n",
        "# Accessing a value using the key\n",
        "print(my_dict['name'])  # Output: 'Alice'\n",
        "\n",
        "# Adding a new key-value pair\n",
        "my_dict['profession'] = 'Engineer'\n",
        "\n",
        "# Updating an existing value\n",
        "my_dict['age'] = 26\n",
        "\n",
        "# Removing a key-value pair\n",
        "del my_dict['city']\n",
        "\n",
        "# Checking if a key exists\n",
        "if 'age' in my_dict:\n",
        "    print(\"Age:\", my_dict['age'])  # Output: Age: 26\n",
        "\n",
        "Relationship Between Hash Tables and Python Dictionaries:\n",
        "Python dictionaries are implemented using hash tables.\n",
        "The keys in a Python dictionary are hashed to determine where to store the associated values.\n",
        "The hash function used by Python’s dictionary implementation ensures that the keys are efficiently mapped to their corresponding values, allowing for fast access and modification.\n",
        "Key Advantages of Using Hash Tables (Dictionaries):\n",
        "Fast Lookups: Hash tables (and thus dictionaries) offer constant time complexity O(1) for lookups, making them efficient for retrieving values associated with keys.\n",
        "Flexibility: You can use various immutable types (e.g., strings, numbers, and tuples) as keys in a dictionary, which is possible because they are hashable.\n",
        "Memory Efficiency: Although hash tables use more memory than other data structures (like lists), their fast access times often outweigh this drawback for key-value pair storage.\n",
        "In Summary:\n",
        "A hash table is a data structure that stores key-value pairs, where each key is hashed to determine the storage location of its value.\n",
        "In Python, dictionaries are implemented using hash tables, providing efficient operations for key-value storage and retrieval.\n",
        "\n",
        "\n",
        "\n",
        "\n",
        "\n",
        "\n"
      ],
      "metadata": {
        "id": "Zr2XPbgcnuB-"
      }
    },
    {
      "cell_type": "markdown",
      "source": [
        "9.  Can lists contain different data types in Python ?\n",
        "\n",
        "Ans. Yes, lists in Python can contain elements of different data types. Unlike arrays in some other programming languages, which typically require all elements to be of the same type, Python lists are flexible and allow you to store items of various types in a single list.\n",
        "\n",
        "Example:\n",
        "\n",
        "my_list = [1, 'Hello', 3.14, True, [1, 2, 3]]\n",
        "\n",
        "In this example:\n",
        "\n",
        "1 is an integer.\n",
        "'Hello' is a string.\n",
        "3.14 is a float.\n",
        "True is a boolean.\n",
        "[1, 2, 3] is another list (a nested list).\n",
        "Common Data Types in a List:\n",
        "Integers: 1, 42, -3\n",
        "Floats: 3.14, 0.99, -2.5\n",
        "Strings: 'apple', \"banana\", 'hello'\n",
        "Booleans: True, False\n",
        "Lists (Nested lists): [1, 2, 3], ['a', 'b', 'c']\n",
        "Dictionaries: {'key': 'value'}\n",
        "Tuples: (1, 2)\n",
        "Example with Mixed Data Types:\n",
        "python\n",
        "\n",
        "\n",
        "mixed_list = [42, 'apple', 3.14, True, {'key': 'value'}, (1, 2), [1, 2, 3]]\n",
        "\n",
        "Operations on Mixed Data Types:\n",
        "You can access and manipulate elements of different types in the same list using standard list operations like indexing, slicing, and iteration.\n",
        "\n",
        "# Accessing elements\n",
        "print(mixed_list[0])  # Output: 42 (integer)\n",
        "print(mixed_list[1])  # Output: 'apple' (string)\n",
        "\n",
        "# Modifying an element\n",
        "mixed_list[2] = 100.5  # Replacing 3.14 (float) with 100.5 (float)\n",
        "\n",
        "# Iterating through a mixed-type list\n",
        "for item in mixed_list:\n",
        "    print(item)  # Will print each item in the list, regardless of type\n",
        "\n",
        "Key Takeaways:\n",
        "Python lists are heterogeneous and can store elements of different types.\n",
        "This flexibility makes Python lists a powerful tool for working with various kinds of data in the same collection.\n",
        "\n"
      ],
      "metadata": {
        "id": "5BnUlFYRnuFG"
      }
    },
    {
      "cell_type": "markdown",
      "source": [
        "10.  Explain why strings are immutable in Python\n",
        "\n",
        "Ans.  In Python, strings are immutable, meaning that once a string is created, its contents cannot be changed. This behavior has several important reasons and advantages, both from a design perspective and for optimizing performance. Here’s an explanation of why strings are immutable in Python:\n",
        "\n",
        "1. Efficiency and Performance:\n",
        "Memory Optimization: Since strings are immutable, Python can optimize memory usage by storing the same string in a single location in memory and reusing it. If strings were mutable, Python would have to create new copies of strings each time they were modified, which would be less memory-efficient.\n",
        "Interning: Python can implement string interning, a technique where identical strings are stored only once in memory. This saves space and improves performance when working with many identical strings. If strings were mutable, interning wouldn't be feasible, as modifying one string would affect all references to that string.\n",
        "Example of string interning:\n",
        "python\n",
        "\n",
        "\n",
        "a = \"hello\"\n",
        "b = \"hello\"\n",
        "print(a is b)  # Output: True (both variables refer to the same object in memory)\n",
        "\n",
        "\n",
        "2. Security and Data Integrity:\n",
        "Protection from Accidental Modification: Strings often represent textual data, such as file paths, usernames, or other important information. By making strings immutable, Python prevents accidental changes to this data during program execution.\n",
        "Consistency: Immutability ensures that strings remain constant throughout the program. This makes programs easier to reason about, as the values of string variables won't unexpectedly change.\n",
        "Example:\n",
        "python\n",
        "\n",
        "\n",
        "username = \"Alice\"\n",
        "# If username were mutable, it could be accidentally changed somewhere in the program, causing potential bugs\n",
        "\n",
        "\n",
        "3. Hashing and Dictionary Keys:\n",
        "Hashable Type: Since strings are immutable, they can be used as keys in dictionaries and elements in sets. The hash value of a string can be calculated once and used consistently throughout the program. If strings were mutable, their hash value could change, leading to inconsistencies and errors when used as dictionary keys or set elements.\n",
        "Example of using a string as a dictionary key\n",
        "\n",
        "my_dict = {\"name\": \"Alice\", \"age\": 30}\n",
        "# Here, the string keys 'name' and 'age' are immutable, so their hash values remain constant\n",
        "\n",
        "\n",
        "4. Safety in Multithreading:\n",
        "Thread Safety: In multi-threaded programs, immutable objects like strings are inherently thread-safe because their state cannot be changed once they are created. This eliminates the need for synchronization mechanisms to avoid race conditions when accessing or modifying string data across multiple threads.\n",
        "If strings were mutable, you would have to manage concurrency issues, such as ensuring no two threads modify the same string at the same time.\n",
        "5. Simplicity and Predictability:\n",
        "Simplicity in Implementation: Immutable objects are simpler to implement and reason about. When a string is created, you can be certain that it will never change. This simplicity leads to fewer edge cases and bugs in code.\n",
        "Predictable Behavior: When working with immutable objects, you don’t have to worry about one part of your program inadvertently modifying a string, leading to unpredictable behavior elsewhere in the code.\n",
        "Example of String Immutability:\n",
        "python\n",
        "\n",
        "\n",
        "s = \"hello\"\n",
        "# Trying to modify a string directly will result in an error\n",
        "# s[0] = 'H'  # This would raise a TypeError because strings are immutable\n",
        "\n",
        "# Instead, you create a new string if you want to change it\n",
        "s = \"Hello\"\n",
        "print(s)  # Output: 'Hello'\n",
        "\n",
        "6. Consistency with Other Immutable Types:\n",
        "Strings are part of Python's broader concept of immutable types, which also includes tuples, frozensets, and integers. These types provide consistency and help maintain Python's overall design philosophy of providing both mutable and immutable objects depending on the use case.\n",
        "In Summary:\n",
        "Strings are immutable in Python to ensure:\n",
        "\n",
        "Memory efficiency and optimization through techniques like string interning.\n",
        "Data integrity by preventing accidental changes to string values.\n",
        "Security in cases where strings represent sensitive or critical data.\n",
        "Reliability in multithreaded environments due to the lack of side effects from string mutations.\n",
        "Consistency in the behavior of hashable objects, such as using strings as dictionary keys.\n",
        "Immutability simplifies working with strings, makes the language more efficient, and reduces the potential for errors in your code.\n",
        "\n",
        "\n",
        "\n",
        "\n",
        "\n",
        "\n",
        "\n"
      ],
      "metadata": {
        "id": "zxMM3aPznuHm"
      }
    },
    {
      "cell_type": "markdown",
      "source": [
        "11. What advantages do dictionaries offer over lists for certain tasks.\n",
        "\n",
        "Ans. Dictionaries offer the following advantages over lists:\n",
        "\n",
        "Faster Lookups: O(1) time complexity for accessing values by key, compared to O(n) for searching in a list.\n",
        "Key-Value Pairs: Ideal for storing data with unique keys and corresponding values, making data retrieval more organized.\n",
        "No Duplicates: Keys must be unique, preventing duplicate data.\n",
        "Efficient Updates: Easily update values associated with a key, without affecting others.\n",
        "Flexible Keys: Allows for using any immutable type as keys (e.g., strings, tuples), unlike lists which require indices.\n",
        "\n"
      ],
      "metadata": {
        "id": "P0wgKWQSnuKI"
      }
    },
    {
      "cell_type": "markdown",
      "source": [
        "12. Describe a scenario where using a tuple would be preferable over a list\n",
        "\n",
        "Ans. A scenario where using a tuple would be preferable over a list is when you need to store a fixed set of values that should not change during the execution of the program.\n",
        "\n",
        "Example Scenario: Storing Coordinates\n",
        "If you are working with geographical coordinates (latitude, longitude) that should remain constant, a tuple would be a better choice than a list because:\n",
        "\n",
        "Immutability: Tuples ensure the coordinates cannot be accidentally modified, providing data integrity.\n",
        "Performance: Tuples are more memory-efficient and faster than lists when you don't need to modify the data.\n",
        "\n",
        "coordinates = (40.7128, -74.0060)  # Tuple for storing fixed coordinates (latitude, longitude)\n",
        "\n",
        "In this case, using a tuple guarantees the integrity of the coordinate values, as they should not change. A list would be less appropriate because it would allow for accidental modification of the coordinates."
      ],
      "metadata": {
        "id": "XljmEuUjnuNg"
      }
    },
    {
      "cell_type": "markdown",
      "source": [
        "13. How do sets handle duplicate values in Python\n",
        "\n",
        "ans. In Python, sets automatically remove duplicate values. When you try to add an element to a set that already contains that element, the set will not allow the duplicate, and the element will not be added again.\n",
        "\n",
        "Key Points:\n",
        "Uniqueness: Sets store only unique elements. If you try to add a duplicate element, it will simply be ignored.\n",
        "No Order: Sets do not maintain any particular order of elements, and the order of elements may appear different when iterated over.\n",
        "Example:\n",
        "\n",
        "my_set = {1, 2, 3, 3, 2, 1}  # Duplicates are ignored\n",
        "print(my_set)  # Output: {1, 2, 3}\n",
        "\n",
        "In this example, the duplicate values 3, 2, and 1 are automatically removed, and the set contains only the unique elements {1, 2, 3}."
      ],
      "metadata": {
        "id": "lynwY0fBnuTi"
      }
    },
    {
      "cell_type": "markdown",
      "source": [
        "14. How does the “in” keyword work differently for lists and dictionaries\n",
        "\n",
        "Ans. The in keyword works differently for lists and dictionaries in Python:\n",
        "\n",
        "1. In Lists:\n",
        "When you use the in keyword with a list, it checks if a specific value exists in the list.\n",
        "It performs a linear search, meaning it checks each element of the list to see if the value is present.\n",
        "Example:\n",
        "\n",
        "my_list = [1, 2, 3, 4, 5]\n",
        "print(3 in my_list)  # Output: True (3 is in the list)\n",
        "print(6 in my_list)  # Output: False (6 is not in the list)\n",
        "\n",
        "2. In Dictionaries:\n",
        "When you use the in keyword with a dictionary, it checks if a key exists in the dictionary.\n",
        "It does not check the values, only the keys, and it performs the check in constant time (O(1)) due to the hash table implementation.\n",
        "Example:\n",
        "\n",
        "my_dict = {'a': 1, 'b': 2, 'c': 3}\n",
        "print('b' in my_dict)  # Output: True (key 'b' is in the dictionary)\n",
        "print(2 in my_dict)    # Output: False (2 is not a key, it's a value)\n",
        "\n",
        "Key Differences:\n",
        "In lists, in checks for values.\n",
        "In dictionaries, in checks for keys."
      ],
      "metadata": {
        "id": "iCZW1aZfnuWW"
      }
    },
    {
      "cell_type": "markdown",
      "source": [
        "15. Can you modify the elements of a tuple? Explain why or why not\n",
        "\n",
        "Ans. No, you cannot modify the elements of a tuple after it has been created. This is because tuples are immutable in Python.\n",
        "\n",
        "Why Tuples Are Immutable:\n",
        "Immutability: Once a tuple is created, its contents cannot be changed, added, or removed. This ensures that the data stored in a tuple remains constant throughout the program, providing stability and consistency.\n",
        "\n",
        "Performance Benefits: Since tuples are immutable, they are generally more memory-efficient and faster to access than lists. This makes them suitable for use in situations where data should not change, like storing fixed collections of items.\n",
        "\n",
        "Example:\n",
        "\n",
        "my_tuple = (1, 2, 3)\n",
        "# Attempting to modify an element will result in an error\n",
        "my_tuple[0] = 4  # Raises TypeError: 'tuple' object does not support item assignment\n",
        "\n",
        "However:\n",
        "You can modify elements inside a tuple if they are mutable objects (e.g., lists or dictionaries) stored as elements of the tuple.\n",
        "\n",
        "python\n",
        "\n",
        "my_tuple = ([1, 2, 3], 4, 5)\n",
        "my_tuple[0][0] = 10  # This is allowed, as the first element is a list, which is mutable\n",
        "print(my_tuple)  # Output: ([10, 2, 3], 4, 5)\n",
        "\n",
        "But the tuple itself cannot be changed directly (i.e., its size or the values of its elements), making it immutable by design."
      ],
      "metadata": {
        "id": "ze-EP6EVnuZR"
      }
    },
    {
      "cell_type": "markdown",
      "source": [
        "16. What is a nested dictionary, and give an example of its use case\n",
        "\n",
        "Ans. A nested dictionary in Python is a dictionary where the values of some keys are themselves dictionaries. Essentially, it is a dictionary within another dictionary, allowing you to store more complex data structures.\n",
        "\n",
        "Structure of a Nested Dictionary:\n",
        "The outer dictionary contains key-value pairs.\n",
        "Some of the values in the outer dictionary are themselves dictionaries, which can have their own key-value pairs.\n",
        "Use Case Example:\n",
        "A nested dictionary is commonly used when you need to represent more complex data, such as storing information about multiple people (where each person has multiple attributes) or organizing data hierarchically.\n",
        "\n",
        "Example: Storing Information About Students\n",
        "Let’s say you want to store the details of students, where each student has a name, age, and a list of subjects they are enrolled in.\n",
        "\n",
        "students = {\n",
        "    'John': {'age': 21, 'subjects': ['Math', 'Science', 'English']},\n",
        "    'Alice': {'age': 22, 'subjects': ['History', 'Biology']},\n",
        "    'Bob': {'age': 20, 'subjects': ['Math', 'Physics']}\n",
        "}\n",
        "\n",
        "# Accessing a student's age\n",
        "print(students['John']['age'])  # Output: 21\n",
        "\n",
        "# Accessing the subjects of Alice\n",
        "print(students['Alice']['subjects'])  # Output: ['History', 'Biology']\n",
        "\n",
        "Use Case in Real Life:\n",
        "Company Employee Records: Each employee's data can be a dictionary containing personal information (like name, age, etc.) and job-related information (like position, department, and salary).\n",
        "\n",
        "employees = {\n",
        "    'E001': {'name': 'Alice', 'position': 'Manager', 'salary': 60000},\n",
        "    'E002': {'name': 'Bob', 'position': 'Developer', 'salary': 50000},\n",
        "}\n",
        "\n",
        "Advantages of Nested Dictionaries:\n",
        "Organizing complex data: You can easily group and store related information under a single key.\n",
        "Flexible structure: You can have multiple layers of nesting, allowing for deep hierarchical data storage."
      ],
      "metadata": {
        "id": "-kX5y0UunucZ"
      }
    },
    {
      "cell_type": "markdown",
      "source": [
        "16. Describe the time complexity of accessing elements in a dictionary\n",
        "\n",
        "Ans. The time complexity of accessing elements in a dictionary in Python is typically O(1) on average, meaning that dictionary lookups are done in constant time, regardless of the size of the dictionary.\n",
        "\n",
        "Why is Dictionary Access O(1) on Average?\n",
        "Hashing:\n",
        "\n",
        "Python dictionaries are implemented using hash tables. When you attempt to access a value using a key, Python uses a hash function to calculate a hash value from the key. This hash value determines the index where the corresponding value is stored.\n",
        "Since this hashing process directly points to the location of the value, accessing the value takes constant time.\n",
        "Average Case:\n",
        "\n",
        "In most cases, the hash table provides a direct mapping from the key to its associated value, making access very fast, with a time complexity of O(1).\n",
        "Worst Case (O(n)):\n",
        "\n",
        "In the worst case, if many keys collide and end up in the same hash bucket (a situation called a hash collision), Python might need to search through those keys, leading to a time complexity of O(n) where n is the number of keys in the dictionary. However, this is rare and typically minimized by Python's efficient handling of hash collisions.\n",
        "Example:\n",
        "\n",
        "my_dict = {'apple': 1, 'banana': 2, 'cherry': 3}\n",
        "# Accessing a value by key is O(1) on average\n",
        "print(my_dict['apple'])  # Output: 1\n",
        "\n",
        "Summary:\n",
        "Average case: O(1) for access, insertion, and deletion.\n",
        "Worst case: O(n), but this is rare due to good hashing mechanisms."
      ],
      "metadata": {
        "id": "l7gfl-7WnufI"
      }
    },
    {
      "cell_type": "markdown",
      "source": [
        "18. In what situations are lists preferred over dictionaries\n",
        "\n",
        "Ans. Lists are preferred over dictionaries in situations where:\n",
        "\n",
        "1. Order Matters:\n",
        "When the order of elements is important, lists are ideal because they maintain the insertion order of elements.\n",
        "Example: Storing a sequence of tasks to be completed in a specific order.\n",
        "python\n",
        "\n",
        "tasks = ['task1', 'task2', 'task3']  # Order matters\n",
        "\n",
        "\n",
        "2. Accessing Elements by Index:\n",
        "Lists are preferred when you need to access elements by their position (index) in the collection.\n",
        "Example: Storing a list of numbers and accessing them by their index.\n",
        "python\n",
        "\n",
        "numbers = [10, 20, 30, 40]\n",
        "print(numbers[2])  # Output: 30 (access by index)\n",
        "\n",
        "3. When You Need Duplicate Values:\n",
        "Lists can store duplicate values, while dictionaries cannot have duplicate keys.\n",
        "Example: Storing a list of student names, where some students might have the same name.\n",
        "\n",
        "students = ['Alice', 'Bob', 'Alice']\n",
        "\n",
        "4. When You Need to Perform Sequential Operations:\n",
        "Lists are better for situations where you need to perform sequential operations like iterating over elements, sorting, or appending/removing elements frequently.\n",
        "Example: Maintaining a dynamic list of items (e.g., shopping cart contents) that can be updated or reordered.\n",
        "\n",
        "cart = ['apple', 'banana', 'orange']\n",
        "cart.append('grapes')  # Adding item to the end of the list\n",
        "\n",
        "5. Smaller Data Sets or Simple Data:\n",
        "Lists are ideal when the dataset is relatively small, or when the data is simple (e.g., numbers, strings) and there is no need for key-value mapping.\n",
        "Example: Storing a small list of numbers for a simple calculation.\n",
        "\n",
        "6. When You Don’t Need Keys or Mapping:\n",
        "Lists are a better choice when you don’t need to associate data with unique keys (i.e., no need for key-value pairs).\n",
        "Example: A list of students' grades where the grades are just stored in sequence.\n",
        "\n",
        "grades = [85, 90, 88, 92]\n",
        "\n",
        "Summary:\n",
        "Use lists when order matters, when you need to access by index, when you need duplicates, or when the data doesn't require key-value relationships. Lists are more efficient for sequential operations and simpler data structures.\n"
      ],
      "metadata": {
        "id": "pLU1JmYmnuiL"
      }
    },
    {
      "cell_type": "markdown",
      "source": [
        "19. Why are dictionaries considered unordered, and how does that affect data retrieval.\n",
        "\n",
        "Ans. Dictionaries in Python are considered unordered because the elements (key-value pairs) are not stored in any specific sequence. This characteristic stems from the way dictionaries are implemented using hash tables.\n",
        "\n",
        "Why Dictionaries Are Unordered:\n",
        "Hash Table Implementation:\n",
        "\n",
        "When a dictionary is created, Python uses a hash function to compute a hash value for each key. These hash values are then used to place key-value pairs in locations in memory, but the order in which these pairs are stored is not guaranteed to be the same as the order in which they were inserted.\n",
        "No Guarantee of Order:\n",
        "\n",
        "While Python 3.7+ maintains insertion order (meaning that the order of elements is preserved in the dictionary as of Python 3.7), this behavior is an implementation detail and not part of the dictionary's core design. In earlier versions of Python (3.6 and below), dictionaries did not guarantee any order.\n",
        "Performance Focus:\n",
        "\n",
        "The primary focus of dictionaries is to provide efficient lookups and insertions, not to maintain any order of the elements. The hashing mechanism allows for constant-time complexity (O(1)) for accessing elements by key, but it sacrifices any notion of ordering.\n",
        "How Unordered Nature Affects Data Retrieval:\n",
        "Efficient Lookups:\n",
        "Dictionaries are optimized for fast access to values based on keys. You can retrieve a value by key in O(1) time on average, meaning the unordered nature of dictionaries does not affect how quickly you can access data using a key.\n",
        "No Indexing:\n",
        "Unlike lists, you cannot access elements using an index (e.g., my_dict[0]). Instead, you must use the key to retrieve the corresponding value. The lack of order means that the elements may not be in any predictable or sequential order, but this does not affect retrieval by key.\n",
        "\n",
        "my_dict = {'a': 1, 'b': 2, 'c': 3}\n",
        "print(my_dict['b'])  # Output: 2, retrieval by key works, but order does not matter\n",
        "\n",
        "\n",
        "Example:\n",
        "In earlier versions of Python (before 3.7), the order of dictionary elements was not guaranteed:\n",
        "\n",
        "python\n",
        "\n",
        "my_dict = {'a': 1, 'b': 2, 'c': 3}\n",
        "for key, value in my_dict.items():\n",
        "    print(key, value)  \n",
        "# Output could be in any order (e.g., a random order):\n",
        "# b 2\n",
        "# c 3\n",
        "# a 1\n",
        "\n",
        "\n",
        "In Python 3.7 and later, while dictionaries do maintain insertion order, it is still important to note that dictionaries are not designed to be ordered structures, and you should not rely on their order for your program's logic.\n",
        "\n",
        "Key Takeaway:\n",
        "Dictionaries provide efficient data retrieval based on keys (O(1) average time), but since they are unordered, you cannot rely on the order of the elements unless you explicitly sort them."
      ],
      "metadata": {
        "id": "sMtFSHC0nulT"
      }
    },
    {
      "cell_type": "markdown",
      "source": [
        "20. Explain the difference between a list and a dictionary in terms of data retrieval.\n",
        "\n",
        "Ans. The key difference between a list and a dictionary in terms of data retrieval lies in how data is accessed and the underlying structure used for storing the elements.\n",
        "\n",
        "1. Data Retrieval in a List:\n",
        "Indexed by Position: A list stores elements in a sequential order, and data is retrieved using the index (position) of the element.\n",
        "Time Complexity: Retrieving an element by index takes O(1) time (constant time) as long as you know the index.\n",
        "Accessing Data: Lists are ordered, so the position of elements is important.\n",
        "Example:\n",
        "\n",
        "my_list = [10, 20, 30, 40]\n",
        "print(my_list[2])  # Output: 30\n",
        "\n",
        "Here, you access the element by its index, which is 2. The list must maintain its order, so indexing works efficiently for fixed positions.\n",
        "\n",
        "2. Data Retrieval in a Dictionary:\n",
        "Indexed by Key: A dictionary stores data as key-value pairs, and data is retrieved using the key.\n",
        "Time Complexity: Retrieving a value by its key is done in O(1) time on average, thanks to the dictionary's hash table structure.\n",
        "Accessing Data: Dictionaries are unordered (prior to Python 3.7), so the position of elements doesn't matter. What matters is the key used for retrieval.\n",
        "Example:\n",
        "\n",
        "my_dict = {'a': 10, 'b': 20, 'c': 30}\n",
        "print(my_dict['b'])  # Output: 20\n",
        "\n",
        "Here, you access the element by its key, which is 'b'. Dictionaries are optimized for fast access using keys, so the order of elements doesn't matter.\n",
        "\n",
        "Key Differences in Data Retrieval:\n",
        "Index vs Key:\n",
        "\n",
        "Lists use indices (positions) to retrieve data.\n",
        "Dictionaries use keys to retrieve data.\n",
        "Order:\n",
        "\n",
        "Lists maintain a sequential order, and elements are accessed by their position.\n",
        "Dictionaries (prior to Python 3.7) are unordered, meaning the order in which elements are stored is not guaranteed.\n",
        "Efficiency:\n",
        "\n",
        "Lists: Retrieving an element by its index is O(1), but you can only access elements by their position.\n",
        "Dictionaries: Retrieving a value by key is also O(1), but dictionaries allow you to quickly access data based on unique identifiers (keys) rather than position.\n",
        "Use Case:\n",
        "\n",
        "List: If you need to store ordered data and access it by position, a list is ideal.\n",
        "Dictionary: If you need to associate each data element with a unique identifier (key), and access it quickly using that key, a dictionary is the better choice.\n",
        "\n",
        "\n",
        "\n",
        "\n",
        "\n",
        "\n"
      ],
      "metadata": {
        "id": "XTWvJ7wsnun8"
      }
    },
    {
      "cell_type": "markdown",
      "source": [
        "## Practical Question"
      ],
      "metadata": {
        "id": "eTJWQguHnuqx"
      }
    },
    {
      "cell_type": "markdown",
      "source": [
        "1.  Write a code to create a string with your name and print it.\n",
        "\n",
        "Ams. Here's a simple Python code to create a string with your name and print it:\n"
      ],
      "metadata": {
        "id": "RFdbqXoUnuuW"
      }
    },
    {
      "cell_type": "code",
      "source": [
        "# Create a string with the name\n",
        "name = \"Rahul\"\n",
        "\n",
        "# Print the string\n",
        "print(name)\n"
      ],
      "metadata": {
        "colab": {
          "base_uri": "https://localhost:8080/"
        },
        "id": "JPFMXtnq0Di3",
        "outputId": "0dc4c888-255d-427a-dd96-00da8f4ff380"
      },
      "execution_count": 4,
      "outputs": [
        {
          "output_type": "stream",
          "name": "stdout",
          "text": [
            "Rahul\n"
          ]
        }
      ]
    },
    {
      "cell_type": "markdown",
      "source": [
        "2.  Write a code to find the length of the string \"Hello World\"\n",
        "\n",
        "Ans. Here's a Python code to find the length of the string \"Hello World\":\n",
        "\n",
        "python\n"
      ],
      "metadata": {
        "id": "dy0r8_mR0Nl2"
      }
    },
    {
      "cell_type": "code",
      "source": [
        "# Define the string\n",
        "my_string = \"Hello World\"\n",
        "\n",
        "# Find and print the length of the string\n",
        "length = len(my_string)\n",
        "print(length)\n"
      ],
      "metadata": {
        "colab": {
          "base_uri": "https://localhost:8080/"
        },
        "id": "R06hwWwm0blj",
        "outputId": "14e8a83a-0517-4b1d-979b-cb104c64351e"
      },
      "execution_count": 5,
      "outputs": [
        {
          "output_type": "stream",
          "name": "stdout",
          "text": [
            "11\n"
          ]
        }
      ]
    },
    {
      "cell_type": "markdown",
      "source": [
        "The length of the string \"Hello World\" is 11, including the space between the words.\n",
        "\n",
        "\n",
        "\n",
        "\n",
        "\n",
        "\n",
        "\n"
      ],
      "metadata": {
        "id": "sJ3SIz4F0hQA"
      }
    },
    {
      "cell_type": "markdown",
      "source": [
        "3. Write a code to slice the first 3 characters from the string \"Python Programming\"\n",
        "\n",
        "Ans. Here's a Python code to slice the first 3 characters from the string \"Python Programming\":\n",
        "\n",
        "python\n"
      ],
      "metadata": {
        "id": "5y3UCdn70kEc"
      }
    },
    {
      "cell_type": "code",
      "source": [
        "# Define the string\n",
        "my_string = \"Python Programming\"\n",
        "\n",
        "# Slice the first 3 characters\n",
        "sliced_string = my_string[:3]\n",
        "\n",
        "# Print the sliced string\n",
        "print(sliced_string)\n"
      ],
      "metadata": {
        "colab": {
          "base_uri": "https://localhost:8080/"
        },
        "id": "od6f0cnv0vqz",
        "outputId": "0f58a9ce-c6f8-4179-c1a6-f86635b3f419"
      },
      "execution_count": 6,
      "outputs": [
        {
          "output_type": "stream",
          "name": "stdout",
          "text": [
            "Pyt\n"
          ]
        }
      ]
    },
    {
      "cell_type": "markdown",
      "source": [
        "The code slices the first 3 characters from the string \"Python Programming\", resulting in \"Pyt\""
      ],
      "metadata": {
        "id": "WBH5is6b0kH4"
      }
    },
    {
      "cell_type": "markdown",
      "source": [
        "4. Write a code to convert the string \"hello\" to uppercase.\n",
        "\n",
        "Ans. Here's a Python code to convert the string \"hello\" to uppercase:\n",
        "\n",
        "python\n"
      ],
      "metadata": {
        "id": "4KE2xCod0kUn"
      }
    },
    {
      "cell_type": "code",
      "source": [
        "# Define the string\n",
        "my_string = \"hello\"\n",
        "\n",
        "# Convert the string to uppercase\n",
        "uppercase_string = my_string.upper()\n",
        "\n",
        "# Print the uppercase string\n",
        "print(uppercase_string)\n"
      ],
      "metadata": {
        "colab": {
          "base_uri": "https://localhost:8080/"
        },
        "id": "q_Ye7bfm0_0L",
        "outputId": "e5887c01-e955-4aec-9ee5-cfc0399f55b7"
      },
      "execution_count": 7,
      "outputs": [
        {
          "output_type": "stream",
          "name": "stdout",
          "text": [
            "HELLO\n"
          ]
        }
      ]
    },
    {
      "cell_type": "markdown",
      "source": [
        "The upper() method converts all characters in the string to uppercase."
      ],
      "metadata": {
        "id": "_0idWuCT1F-h"
      }
    },
    {
      "cell_type": "markdown",
      "source": [
        "5. Write a code to replace the word \"apple\" with \"orange\" in the string \"I like apple\"\n",
        "\n",
        "Ans. Here's a Python code to replace the word \"apple\" with \"orange\" in the string \"I like apple\":\n",
        "\n",
        "python\n"
      ],
      "metadata": {
        "id": "tdBroYl-1GNX"
      }
    },
    {
      "cell_type": "code",
      "source": [
        "# Define the string\n",
        "my_string = \"I like apple\"\n",
        "\n",
        "# Replace \"apple\" with \"orange\"\n",
        "new_string = my_string.replace(\"apple\", \"orange\")\n",
        "\n",
        "# Print the new string\n",
        "print(new_string)\n"
      ],
      "metadata": {
        "colab": {
          "base_uri": "https://localhost:8080/"
        },
        "id": "oOXD0CyD1fiJ",
        "outputId": "a7c4b51b-f279-4674-ed8a-03a2fc0861cb"
      },
      "execution_count": 8,
      "outputs": [
        {
          "output_type": "stream",
          "name": "stdout",
          "text": [
            "I like orange\n"
          ]
        }
      ]
    },
    {
      "cell_type": "markdown",
      "source": [
        "6. Write a code to create a list with numbers 1 to 5 and print it.\n",
        "\n",
        "Ans. Here's a Python code to create a list with numbers from 1 to 5 and print it:\n",
        "\n",
        "python\n"
      ],
      "metadata": {
        "id": "rpNnW9Ng1jfG"
      }
    },
    {
      "cell_type": "code",
      "source": [
        "# Create the list with numbers 1 to 5\n",
        "my_list = [1, 2, 3, 4, 5]\n",
        "\n",
        "# Print the list\n",
        "print(my_list)\n",
        "\n"
      ],
      "metadata": {
        "colab": {
          "base_uri": "https://localhost:8080/"
        },
        "id": "fePwLdp71hHN",
        "outputId": "7d6a6f68-97f9-486b-cdca-44089aafc986"
      },
      "execution_count": 9,
      "outputs": [
        {
          "output_type": "stream",
          "name": "stdout",
          "text": [
            "[1, 2, 3, 4, 5]\n"
          ]
        }
      ]
    },
    {
      "cell_type": "markdown",
      "source": [
        "7. Write a code to append the number 10 to the list [1, 2, 3, 4].\n",
        "\n",
        "Ans. Here's a Python code to append the number 10 to the list [1, 2, 3, 4]:\n",
        "\n",
        "python\n"
      ],
      "metadata": {
        "id": "g7eHohfW1vdn"
      }
    },
    {
      "cell_type": "code",
      "source": [
        "# Define the list\n",
        "my_list = [1, 2, 3, 4]\n",
        "\n",
        "# Append the number 10 to the list\n",
        "my_list.append(10)\n",
        "\n",
        "# Print the updated list\n",
        "print(my_list)\n"
      ],
      "metadata": {
        "colab": {
          "base_uri": "https://localhost:8080/"
        },
        "id": "lttS663n1uBo",
        "outputId": "7c85d552-1f2b-4a35-d11d-1c31361e5d3a"
      },
      "execution_count": 10,
      "outputs": [
        {
          "output_type": "stream",
          "name": "stdout",
          "text": [
            "[1, 2, 3, 4, 10]\n"
          ]
        }
      ]
    },
    {
      "cell_type": "markdown",
      "source": [
        "8. Write a code to remove the number 3 from the list [1, 2, 3, 4, 5]\n",
        "\n",
        "Ans. Here's a Python code to remove the number 3 from the list [1, 2, 3, 4, 5]:\n",
        "\n",
        "python\n"
      ],
      "metadata": {
        "id": "m-uJmXdH2Hbz"
      }
    },
    {
      "cell_type": "code",
      "source": [
        "# Define the list\n",
        "my_list = [1, 2, 3, 4, 5]\n",
        "\n",
        "# Remove the number 3 from the list\n",
        "my_list.remove(3)\n",
        "\n",
        "# Print the updated list\n",
        "print(my_list)\n"
      ],
      "metadata": {
        "colab": {
          "base_uri": "https://localhost:8080/"
        },
        "id": "21YTjonA2G4I",
        "outputId": "94fead05-b321-4754-d392-7843129a8cbd"
      },
      "execution_count": 11,
      "outputs": [
        {
          "output_type": "stream",
          "name": "stdout",
          "text": [
            "[1, 2, 4, 5]\n"
          ]
        }
      ]
    },
    {
      "cell_type": "markdown",
      "source": [
        "The remove() method removes the first occurrence of the specified element (in this case, 3) from the list. If the element is not found, it raises a ValueError."
      ],
      "metadata": {
        "id": "YebLiUaB2YUD"
      }
    },
    {
      "cell_type": "markdown",
      "source": [
        "9. Write a code to access the second element in the list ['a', 'b', 'c', 'd']\n",
        "\n",
        "Ans. Here's a Python code to access the second element in the list ['a', 'b', 'c', 'd']:\n",
        "\n",
        "python\n"
      ],
      "metadata": {
        "id": "l8ZM9Qpk2egM"
      }
    },
    {
      "cell_type": "code",
      "source": [
        "# Define the list\n",
        "my_list = ['a', 'b', 'c', 'd']\n",
        "\n",
        "# Access the second element (index 1)\n",
        "second_element = my_list[1]\n",
        "\n",
        "# Print the second element\n",
        "print(second_element)\n"
      ],
      "metadata": {
        "colab": {
          "base_uri": "https://localhost:8080/"
        },
        "id": "0KebPqqC2qfg",
        "outputId": "e59ea07b-f291-4d69-933f-42ca7864f30f"
      },
      "execution_count": 12,
      "outputs": [
        {
          "output_type": "stream",
          "name": "stdout",
          "text": [
            "b\n"
          ]
        }
      ]
    },
    {
      "cell_type": "markdown",
      "source": [
        "10. Write a code to reverse the list [10, 20, 30, 40, 50].\n",
        "\n",
        "Ans. Here's a Python code to reverse the list [10, 20, 30, 40, 50]:\n",
        "\n",
        "python"
      ],
      "metadata": {
        "id": "vzEPn1VU2eIb"
      }
    },
    {
      "cell_type": "code",
      "source": [
        "# Define the list\n",
        "my_list = [10, 20, 30, 40, 50]\n",
        "\n",
        "# Reverse the list\n",
        "my_list.reverse()\n",
        "\n",
        "# Print the reversed list\n",
        "print(my_list)\n"
      ],
      "metadata": {
        "colab": {
          "base_uri": "https://localhost:8080/"
        },
        "id": "J9mQxlQi23-P",
        "outputId": "12bcf545-8f01-4577-804c-caf468b70486"
      },
      "execution_count": 13,
      "outputs": [
        {
          "output_type": "stream",
          "name": "stdout",
          "text": [
            "[50, 40, 30, 20, 10]\n"
          ]
        }
      ]
    },
    {
      "cell_type": "markdown",
      "source": [
        "11. Write a code to create a tuple with the elements 10, 20, 30 and print it.\n",
        "\n",
        "Ans. Here's a Python code to create a tuple with the elements 10, 20, and 30 and print it:\n",
        "\n",
        "python\n",
        "\n"
      ],
      "metadata": {
        "id": "GwM5YtOk27pD"
      }
    },
    {
      "cell_type": "code",
      "source": [
        "# Create the tuple\n",
        "my_tuple = (10, 20, 30)\n",
        "\n",
        "# Print the tuple\n",
        "print(my_tuple)\n"
      ],
      "metadata": {
        "colab": {
          "base_uri": "https://localhost:8080/"
        },
        "id": "D_WG_fEw3E3C",
        "outputId": "aae61246-b8a0-4797-cf78-00cfdd90d7a3"
      },
      "execution_count": 14,
      "outputs": [
        {
          "output_type": "stream",
          "name": "stdout",
          "text": [
            "(10, 20, 30)\n"
          ]
        }
      ]
    },
    {
      "cell_type": "markdown",
      "source": [
        "12. Write a code to access the first element of the tuple ('apple', 'banana', 'cherry').\n",
        "\n",
        "Ans. Here's a Python code to access the first element of the tuple ('apple', 'banana', 'cherry'):\n",
        "\n",
        "python\n",
        "\n"
      ],
      "metadata": {
        "id": "KYJbwPHY27Xk"
      }
    },
    {
      "cell_type": "code",
      "source": [
        "# Define the tuple\n",
        "my_tuple = ('apple', 'banana', 'cherry')\n",
        "\n",
        "# Access the first element (index 0)\n",
        "first_element = my_tuple[0]\n",
        "\n",
        "# Print the first element\n",
        "print(first_element)\n"
      ],
      "metadata": {
        "colab": {
          "base_uri": "https://localhost:8080/"
        },
        "id": "bKFc1YnL3dyG",
        "outputId": "b00a7c17-00aa-4208-ae2a-cccc8204cdb1"
      },
      "execution_count": 15,
      "outputs": [
        {
          "output_type": "stream",
          "name": "stdout",
          "text": [
            "apple\n"
          ]
        }
      ]
    },
    {
      "cell_type": "markdown",
      "source": [
        "13. Write a code to count how many times the number 2 appears in the tuple (1, 2, 3, 2, 4, 2).\n",
        "\n",
        "Ans. Here's a Python code to count how many times the number 2 appears in the tuple (1, 2, 3, 2, 4, 2):"
      ],
      "metadata": {
        "id": "YfchS1tN3hr0"
      }
    },
    {
      "cell_type": "code",
      "source": [
        "# Define the tuple\n",
        "my_tuple = (1, 2, 3, 2, 4, 2)\n",
        "\n",
        "# Count the occurrences of the number 2\n",
        "count_of_2 = my_tuple.count(2)\n",
        "\n",
        "# Print the result\n",
        "print(count_of_2)\n"
      ],
      "metadata": {
        "colab": {
          "base_uri": "https://localhost:8080/"
        },
        "id": "h8BrWMX_3fOS",
        "outputId": "0576714e-9869-478c-ea5a-e2088e2a12cf"
      },
      "execution_count": 16,
      "outputs": [
        {
          "output_type": "stream",
          "name": "stdout",
          "text": [
            "3\n"
          ]
        }
      ]
    },
    {
      "cell_type": "markdown",
      "source": [
        "14. Write a code to find the index of the element \"cat\" in the tuple ('dog', 'cat', 'rabbit').\n",
        "\n",
        "Ans. Here's a Python code to find the index of the element \"cat\" in the tuple ('dog', 'cat', 'rabbit'):"
      ],
      "metadata": {
        "id": "8SPsCZqP3zKd"
      }
    },
    {
      "cell_type": "code",
      "source": [
        "# Define the tuple\n",
        "my_tuple = ('dog', 'cat', 'rabbit')\n",
        "\n",
        "# Find the index of the element \"cat\"\n",
        "index_of_cat = my_tuple.index('cat')\n",
        "\n",
        "# Print the index\n",
        "print(index_of_cat)\n"
      ],
      "metadata": {
        "colab": {
          "base_uri": "https://localhost:8080/"
        },
        "id": "hMgrbkML3vR7",
        "outputId": "c599f099-5bcc-4bd0-ba5c-3f55aac46ed6"
      },
      "execution_count": 17,
      "outputs": [
        {
          "output_type": "stream",
          "name": "stdout",
          "text": [
            "1\n"
          ]
        }
      ]
    },
    {
      "cell_type": "markdown",
      "source": [
        "15. Write a code to check if the element \"banana\" is in the tuple ('apple', 'orange', 'banana').\n",
        "\n",
        "Ans. Here's a Python code to check if the element \"banana\" is in the tuple ('apple', 'orange', 'banana'):"
      ],
      "metadata": {
        "id": "n9ekHw_w3_N_"
      }
    },
    {
      "cell_type": "code",
      "source": [
        "# Define the tuple\n",
        "my_tuple = ('apple', 'orange', 'banana')\n",
        "\n",
        "# Check if \"banana\" is in the tuple\n",
        "is_banana_in_tuple = 'banana' in my_tuple\n",
        "\n",
        "# Print the result\n",
        "print(is_banana_in_tuple)\n"
      ],
      "metadata": {
        "colab": {
          "base_uri": "https://localhost:8080/"
        },
        "id": "isHSXar639dt",
        "outputId": "8f206375-4ce8-4986-a12f-6648fcfa09b8"
      },
      "execution_count": 18,
      "outputs": [
        {
          "output_type": "stream",
          "name": "stdout",
          "text": [
            "True\n"
          ]
        }
      ]
    },
    {
      "cell_type": "markdown",
      "source": [
        "16. Write a code to create a set with the elements 1, 2, 3, 4, 5 and print it\n",
        "\n",
        "Ans. Here's a Python code to create a set with the elements 1, 2, 3, 4, and 5 and print it:\n",
        "\n",
        "python\n"
      ],
      "metadata": {
        "id": "MLFqSR274eXL"
      }
    },
    {
      "cell_type": "code",
      "source": [
        "# Create the set\n",
        "my_set = {1, 2, 3, 4, 5}\n",
        "\n",
        "# Print the set\n",
        "print(my_set)\n"
      ],
      "metadata": {
        "colab": {
          "base_uri": "https://localhost:8080/"
        },
        "id": "LhlwjZXv4cZf",
        "outputId": "2c64194a-f7fa-4e99-ed1e-36d14016a8a3"
      },
      "execution_count": 19,
      "outputs": [
        {
          "output_type": "stream",
          "name": "stdout",
          "text": [
            "{1, 2, 3, 4, 5}\n"
          ]
        }
      ]
    },
    {
      "cell_type": "markdown",
      "source": [
        "17. Write a code to add the element 6 to the set {1, 2, 3, 4}.\n",
        "\n",
        "ans. Here's a Python code to add the element 6 to the set {1, 2, 3, 4}:\n",
        "\n",
        "python\n"
      ],
      "metadata": {
        "id": "BeGFnf5-4rxg"
      }
    },
    {
      "cell_type": "code",
      "source": [
        "# Define the set\n",
        "my_set = {1, 2, 3, 4}\n",
        "\n",
        "# Add the element 6 to the set\n",
        "my_set.add(6)\n",
        "\n",
        "# Print the updated set\n",
        "print(my_set)\n"
      ],
      "metadata": {
        "colab": {
          "base_uri": "https://localhost:8080/"
        },
        "id": "Uri0Xsk14pvI",
        "outputId": "8fbd0eed-5e80-41d5-e169-7c080d22ddce"
      },
      "execution_count": 20,
      "outputs": [
        {
          "output_type": "stream",
          "name": "stdout",
          "text": [
            "{1, 2, 3, 4, 6}\n"
          ]
        }
      ]
    },
    {
      "cell_type": "markdown",
      "source": [
        "18. Write a code to create a tuple with the elements 10, 20, 30 and print it.\n",
        "\n",
        "Ans. Here's a Python code to create a tuple with the elements 10, 20, and 30 and print it:\n",
        "\n",
        "python\n"
      ],
      "metadata": {
        "id": "xGPkNC1k45TQ"
      }
    },
    {
      "cell_type": "code",
      "source": [
        "# Create the tuple\n",
        "my_tuple = (10, 20, 30)\n",
        "\n",
        "# Print the tuple\n",
        "print(my_tuple)\n"
      ],
      "metadata": {
        "colab": {
          "base_uri": "https://localhost:8080/"
        },
        "id": "jT16Cg9w43F6",
        "outputId": "0593a3e4-d9ef-4db4-d54f-134a355f0753"
      },
      "execution_count": 21,
      "outputs": [
        {
          "output_type": "stream",
          "name": "stdout",
          "text": [
            "(10, 20, 30)\n"
          ]
        }
      ]
    },
    {
      "cell_type": "markdown",
      "source": [
        "19. Write a code to access the first element of the tuple ('apple', 'banana', 'cherry').\n",
        "\n",
        "Ans. Here's a Python code to access the first element of the tuple ('apple', 'banana', 'cherry'):\n",
        "\n",
        "python\n"
      ],
      "metadata": {
        "id": "vVht2uLv5GDi"
      }
    },
    {
      "cell_type": "code",
      "source": [
        "# Define the tuple\n",
        "my_tuple = ('apple', 'banana', 'cherry')\n",
        "\n",
        "# Access the first element (index 0)\n",
        "first_element = my_tuple[0]\n",
        "\n",
        "# Print the first element\n",
        "print(first_element)\n"
      ],
      "metadata": {
        "colab": {
          "base_uri": "https://localhost:8080/"
        },
        "id": "Ko_WOtpC5D90",
        "outputId": "e6fad2e7-bd46-418d-a06d-5cadfdc17dfa"
      },
      "execution_count": 22,
      "outputs": [
        {
          "output_type": "stream",
          "name": "stdout",
          "text": [
            "apple\n"
          ]
        }
      ]
    },
    {
      "cell_type": "markdown",
      "source": [
        "20. Write a code to count how many times the number 2 appears in the tuple (1, 2, 3, 2, 4, 2).\n",
        "\n",
        "Ans. Here's a Python code to count how many times the number 2 appears in the tuple (1, 2, 3, 2, 4, 2):\n",
        "\n"
      ],
      "metadata": {
        "id": "wDNGnq-Y5Svp"
      }
    },
    {
      "cell_type": "code",
      "source": [
        "# Define the tuple\n",
        "my_tuple = (1, 2, 3, 2, 4, 2)\n",
        "\n",
        "# Count the occurrences of the number 2\n",
        "count_of_2 = my_tuple.count(2)\n",
        "\n",
        "# Print the result\n",
        "print(count_of_2)\n"
      ],
      "metadata": {
        "colab": {
          "base_uri": "https://localhost:8080/"
        },
        "id": "OQ1pk7rv5Q6Q",
        "outputId": "96a7dbc5-a524-45f6-c4e1-8ad408c695af"
      },
      "execution_count": 23,
      "outputs": [
        {
          "output_type": "stream",
          "name": "stdout",
          "text": [
            "3\n"
          ]
        }
      ]
    },
    {
      "cell_type": "markdown",
      "source": [
        "21. Write a code to find the index of the element \"cat\" in the tuple ('dog', 'cat', 'rabbit')\n",
        "\n",
        "Ans. Here's a Python code to find the index of the element \"cat\" in the tuple ('dog', 'cat', 'rabbit'):\n"
      ],
      "metadata": {
        "id": "NGGcKbXa6H1J"
      }
    },
    {
      "cell_type": "code",
      "source": [
        "# Define the tuple\n",
        "my_tuple = ('dog', 'cat', 'rabbit')\n",
        "\n",
        "# Find the index of the element \"cat\"\n",
        "index_of_cat = my_tuple.index('cat')\n",
        "\n",
        "# Print the index\n",
        "print(index_of_cat)\n"
      ],
      "metadata": {
        "colab": {
          "base_uri": "https://localhost:8080/"
        },
        "id": "EcTxBHEZ6FiP",
        "outputId": "5041a96c-fc7f-4a90-ba66-b4132f2a01c1"
      },
      "execution_count": 24,
      "outputs": [
        {
          "output_type": "stream",
          "name": "stdout",
          "text": [
            "1\n"
          ]
        }
      ]
    },
    {
      "cell_type": "markdown",
      "source": [
        "22. Write a code to check if the element \"banana\" is in the tuple ('apple', 'orange', 'banana').\n",
        "\n",
        "Ans. Here's a Python code to check if the element \"banana\" is in the tuple ('apple', 'orange', 'banana'):\n"
      ],
      "metadata": {
        "id": "bht0A8t16pUG"
      }
    },
    {
      "cell_type": "code",
      "source": [
        "# Define the tuple\n",
        "my_tuple = ('apple', 'orange', 'banana')\n",
        "\n",
        "# Check if \"banana\" is in the tuple\n",
        "is_banana_in_tuple = 'banana' in my_tuple\n",
        "\n",
        "# Print the result\n",
        "print(is_banana_in_tuple)\n"
      ],
      "metadata": {
        "colab": {
          "base_uri": "https://localhost:8080/"
        },
        "id": "XFjVamd66l-R",
        "outputId": "5055f419-0900-4bee-bae5-51dbee9491a8"
      },
      "execution_count": 25,
      "outputs": [
        {
          "output_type": "stream",
          "name": "stdout",
          "text": [
            "True\n"
          ]
        }
      ]
    },
    {
      "cell_type": "markdown",
      "source": [
        "23.  Write a code to create a set with the elements 1, 2, 3, 4, 5 and print it.\n",
        "\n",
        "Ans. Here's a Python code to create a set with the elements 1, 2, 3, 4, and 5 and print it:\n",
        "\n",
        "python"
      ],
      "metadata": {
        "id": "mwq6CPiF7Eu1"
      }
    },
    {
      "cell_type": "code",
      "source": [
        "# Create the set\n",
        "my_set = {1, 2, 3, 4, 5}\n",
        "\n",
        "# Print the set\n",
        "print(my_set)\n"
      ],
      "metadata": {
        "colab": {
          "base_uri": "https://localhost:8080/"
        },
        "id": "vh921hJP7CnO",
        "outputId": "ff6fc250-6c23-4ab3-e7fb-4db6281a8658"
      },
      "execution_count": 26,
      "outputs": [
        {
          "output_type": "stream",
          "name": "stdout",
          "text": [
            "{1, 2, 3, 4, 5}\n"
          ]
        }
      ]
    },
    {
      "cell_type": "markdown",
      "source": [
        "24. Write a code to add the element 6 to the set {1, 2, 3, 4}.\n",
        "\n",
        "Ans. Here's a Python code to add the element 6 to the set {1, 2, 3, 4}:\n",
        "\n",
        "python\n"
      ],
      "metadata": {
        "id": "LEglXhSt7W3i"
      }
    },
    {
      "cell_type": "code",
      "source": [
        "# Define the set\n",
        "my_set = {1, 2, 3, 4}\n",
        "\n",
        "# Add the element 6 to the set\n",
        "my_set.add(6)\n",
        "\n",
        "# Print the updated set\n",
        "print(my_set)\n"
      ],
      "metadata": {
        "colab": {
          "base_uri": "https://localhost:8080/"
        },
        "id": "d9LWctzs7VBh",
        "outputId": "9ca8fa21-a7f1-4b98-d28b-81693fdd938f"
      },
      "execution_count": 27,
      "outputs": [
        {
          "output_type": "stream",
          "name": "stdout",
          "text": [
            "{1, 2, 3, 4, 6}\n"
          ]
        }
      ]
    },
    {
      "cell_type": "code",
      "source": [],
      "metadata": {
        "id": "trRMv4Wb7lOg"
      },
      "execution_count": null,
      "outputs": []
    }
  ]
}